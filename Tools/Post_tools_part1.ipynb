{
 "cells": [
  {
   "cell_type": "markdown",
   "metadata": {},
   "source": [
    "# Post-process of MCCM algorithms"
   ]
  },
  {
   "cell_type": "code",
   "execution_count": 3,
   "metadata": {},
   "outputs": [],
   "source": [
    "import numpy as np\n",
    "import pandas as pd\n",
    "import matplotlib.pylab as plt\n"
   ]
  },
  {
   "cell_type": "code",
   "execution_count": 4,
   "metadata": {},
   "outputs": [],
   "source": [
    "data = pd.read_csv(\"datas/Fe.csv\",header=None)"
   ]
  },
  {
   "cell_type": "code",
   "execution_count": 5,
   "metadata": {},
   "outputs": [
    {
     "data": {
      "text/html": [
       "<div>\n",
       "<style scoped>\n",
       "    .dataframe tbody tr th:only-of-type {\n",
       "        vertical-align: middle;\n",
       "    }\n",
       "\n",
       "    .dataframe tbody tr th {\n",
       "        vertical-align: top;\n",
       "    }\n",
       "\n",
       "    .dataframe thead th {\n",
       "        text-align: right;\n",
       "    }\n",
       "</style>\n",
       "<table border=\"1\" class=\"dataframe\">\n",
       "  <thead>\n",
       "    <tr style=\"text-align: right;\">\n",
       "      <th></th>\n",
       "      <th>0</th>\n",
       "      <th>1</th>\n",
       "    </tr>\n",
       "  </thead>\n",
       "  <tbody>\n",
       "    <tr>\n",
       "      <th>0</th>\n",
       "      <td>0.319627</td>\n",
       "      <td>11.711952</td>\n",
       "    </tr>\n",
       "    <tr>\n",
       "      <th>1</th>\n",
       "      <td>0.807826</td>\n",
       "      <td>34.943728</td>\n",
       "    </tr>\n",
       "    <tr>\n",
       "      <th>2</th>\n",
       "      <td>1.614677</td>\n",
       "      <td>85.042731</td>\n",
       "    </tr>\n",
       "    <tr>\n",
       "      <th>3</th>\n",
       "      <td>4.082104</td>\n",
       "      <td>266.904484</td>\n",
       "    </tr>\n",
       "    <tr>\n",
       "      <th>4</th>\n",
       "      <td>8.163933</td>\n",
       "      <td>718.755578</td>\n",
       "    </tr>\n",
       "  </tbody>\n",
       "</table>\n",
       "</div>"
      ],
      "text/plain": [
       "          0           1\n",
       "0  0.319627   11.711952\n",
       "1  0.807826   34.943728\n",
       "2  1.614677   85.042731\n",
       "3  4.082104  266.904484\n",
       "4  8.163933  718.755578"
      ]
     },
     "execution_count": 5,
     "metadata": {},
     "output_type": "execute_result"
    }
   ],
   "source": [
    "data.head()"
   ]
  },
  {
   "cell_type": "code",
   "execution_count": 6,
   "metadata": {},
   "outputs": [
    {
     "data": {
      "text/plain": [
       "(41, 2)"
      ]
     },
     "execution_count": 6,
     "metadata": {},
     "output_type": "execute_result"
    }
   ],
   "source": [
    "data.shape"
   ]
  },
  {
   "cell_type": "code",
   "execution_count": 7,
   "metadata": {},
   "outputs": [],
   "source": [
    "data_np = data.to_numpy()"
   ]
  },
  {
   "cell_type": "code",
   "execution_count": 8,
   "metadata": {},
   "outputs": [
    {
     "data": {
      "text/plain": [
       "(41, 2)"
      ]
     },
     "execution_count": 8,
     "metadata": {},
     "output_type": "execute_result"
    }
   ],
   "source": [
    "data_np.shape"
   ]
  },
  {
   "cell_type": "code",
   "execution_count": 9,
   "metadata": {},
   "outputs": [
    {
     "data": {
      "text/plain": [
       "array([  0.31962695,   0.80782628,   1.6146771 ,   4.08210434,\n",
       "         8.16393344,  16.08244795,  39.57757971,  74.93598854,\n",
       "       142.20741392])"
      ]
     },
     "execution_count": 9,
     "metadata": {},
     "output_type": "execute_result"
    }
   ],
   "source": [
    "data_np[:9][:,0]"
   ]
  },
  {
   "cell_type": "code",
   "execution_count": 10,
   "metadata": {},
   "outputs": [],
   "source": [
    "data_1 = data_np[:9]"
   ]
  },
  {
   "cell_type": "code",
   "execution_count": 11,
   "metadata": {},
   "outputs": [
    {
     "data": {
      "text/plain": [
       "(9, 2)"
      ]
     },
     "execution_count": 11,
     "metadata": {},
     "output_type": "execute_result"
    }
   ],
   "source": [
    "data_1.shape"
   ]
  },
  {
   "cell_type": "code",
   "execution_count": 12,
   "metadata": {},
   "outputs": [],
   "source": [
    "data_2 = data_np[9:22]"
   ]
  },
  {
   "cell_type": "code",
   "execution_count": 13,
   "metadata": {},
   "outputs": [
    {
     "data": {
      "text/plain": [
       "(13, 2)"
      ]
     },
     "execution_count": 13,
     "metadata": {},
     "output_type": "execute_result"
    }
   ],
   "source": [
    "data_2.shape"
   ]
  },
  {
   "cell_type": "code",
   "execution_count": 14,
   "metadata": {},
   "outputs": [],
   "source": [
    "data_3 = data_np[22:29]"
   ]
  },
  {
   "cell_type": "code",
   "execution_count": 15,
   "metadata": {},
   "outputs": [
    {
     "data": {
      "text/plain": [
       "(7, 2)"
      ]
     },
     "execution_count": 15,
     "metadata": {},
     "output_type": "execute_result"
    }
   ],
   "source": [
    "data_3.shape"
   ]
  },
  {
   "cell_type": "code",
   "execution_count": 16,
   "metadata": {},
   "outputs": [],
   "source": [
    "data_4 = data_np[29:34]"
   ]
  },
  {
   "cell_type": "code",
   "execution_count": 17,
   "metadata": {},
   "outputs": [
    {
     "data": {
      "text/plain": [
       "(5, 2)"
      ]
     },
     "execution_count": 17,
     "metadata": {},
     "output_type": "execute_result"
    }
   ],
   "source": [
    "data_4.shape"
   ]
  },
  {
   "cell_type": "code",
   "execution_count": 18,
   "metadata": {},
   "outputs": [],
   "source": [
    "data_5 = data[34:41]"
   ]
  },
  {
   "cell_type": "code",
   "execution_count": 19,
   "metadata": {},
   "outputs": [
    {
     "data": {
      "text/plain": [
       "34     0.395043\n",
       "35     0.777434\n",
       "36     1.532590\n",
       "37     3.965099\n",
       "38     8.112885\n",
       "39    16.206730\n",
       "40    39.883427\n",
       "Name: 0, dtype: float64"
      ]
     },
     "execution_count": 19,
     "metadata": {},
     "output_type": "execute_result"
    }
   ],
   "source": [
    "data_5[0]"
   ]
  },
  {
   "cell_type": "code",
   "execution_count": 20,
   "metadata": {},
   "outputs": [
    {
     "data": {
      "text/plain": [
       "34      2.504985\n",
       "35      3.865750\n",
       "36      8.082294\n",
       "37     15.294252\n",
       "38     23.607488\n",
       "39     51.923066\n",
       "40    136.487107\n",
       "Name: 1, dtype: float64"
      ]
     },
     "execution_count": 20,
     "metadata": {},
     "output_type": "execute_result"
    }
   ],
   "source": [
    "data_5[1]"
   ]
  },
  {
   "cell_type": "code",
   "execution_count": 21,
   "metadata": {},
   "outputs": [
    {
     "data": {
      "text/plain": [
       "(7, 2)"
      ]
     },
     "execution_count": 21,
     "metadata": {},
     "output_type": "execute_result"
    }
   ],
   "source": [
    "data_5.shape"
   ]
  },
  {
   "cell_type": "code",
   "execution_count": 22,
   "metadata": {},
   "outputs": [
    {
     "data": {
      "image/png": "[encoded data removed]",
      "text/plain": [
       "<Figure size 432x288 with 1 Axes>"
      ]
     },
     "metadata": {
      "needs_background": "light"
     },
     "output_type": "display_data"
    }
   ],
   "source": [
    "plt.loglog(data_5[0],data_5[1],color='r',marker=\"h\")\n",
    "plt.show()"
   ]
  },
  {
   "cell_type": "code",
   "execution_count": 23,
   "metadata": {},
   "outputs": [
    {
     "data": {
      "image/png": "[encoded data removed]",
      "text/plain": [
       "<Figure size 432x288 with 1 Axes>"
      ]
     },
     "metadata": {
      "needs_background": "light"
     },
     "output_type": "display_data"
    }
   ],
   "source": [
    "plt.loglog(data_1[:,0],data_1[:,1],color='r',marker=\"o\",linestyle='None',label='Damage (MD,AMS)')\n",
    "plt.loglog(data_2[:,0],data_2[:,1],color='b',marker=\"^\",linestyle='None',label='Damage (MD,Stoller)')\n",
    "plt.loglog(data_3[:,0],data_3[:,1],color='g',marker=\"D\",linestyle='None',label='Damage (MD,DD-BN)')\n",
    "plt.loglog(data_4[:,0],data_4[:,1],color='c',marker=\"o\",linestyle='None',label='Damage (MD,AMS)')\n",
    "plt.loglog(data_5[0],data_5[1],color='m',marker=\"h\",linestyle='None',label='Damage (MD,MEA-BN)')\n",
    "plt.legend()\n",
    "plt.show()"
   ]
  },
  {
   "cell_type": "markdown",
   "metadata": {},
   "source": [
    "## Fe threshold displacement energy"
   ]
  },
  {
   "cell_type": "code",
   "execution_count": null,
   "metadata": {},
   "outputs": [],
   "source": []
  },
  {
   "cell_type": "markdown",
   "metadata": {},
   "source": [
    "**athermal recombination corrected displaement per atom**"
   ]
  },
  {
   "cell_type": "code",
   "execution_count": 24,
   "metadata": {},
   "outputs": [],
   "source": [
    "# Basic constant of Fe\n",
    "Ed = 40   # threshold energy(eV)\n",
    "barcdpa = -0.568\n",
    "carcdpa = 0.286\n",
    "brpa = 1018\n",
    "crpa = 0.95"
   ]
  },
  {
   "cell_type": "code",
   "execution_count": 25,
   "metadata": {},
   "outputs": [],
   "source": [
    "def  arcdpamodel(Td,Ed):\n",
    "    index_arcdpa = (1-carcdpa)/((2*Ed/0.8)**barcdpa)*Td**barcdpa+carcdpa\n",
    "    if Td<Ed:\n",
    "        Nd = 0\n",
    "    elif Td<(2*Ed/0.8) and Td>Ed:\n",
    "        Nd = 1\n",
    "    else:\n",
    "        Nd = 0.8*Td*index_arcdpa/(2*Ed)\n",
    "    return Nd"
   ]
  },
  {
   "cell_type": "code",
   "execution_count": 26,
   "metadata": {},
   "outputs": [
    {
     "data": {
      "text/plain": [
       "2.4435354407875236"
      ]
     },
     "execution_count": 26,
     "metadata": {},
     "output_type": "execute_result"
    }
   ],
   "source": [
    "arcdpamodel(400,Ed)"
   ]
  },
  {
   "cell_type": "code",
   "execution_count": 50,
   "metadata": {},
   "outputs": [],
   "source": [
    "def  rpamodel(Td,Ed):\n",
    "    index1 = Td**crpa/(brpa**crpa+Td**crpa)\n",
    "    index_rpa = (brpa**crpa/((2*Ed/0.8)**crpa)+1)*index1\n",
    "    if Td<Ed:\n",
    "        Nd = 0\n",
    "    elif Td<(2*Ed/0.8) and Td>Ed:\n",
    "        Nd = 1\n",
    "    else:\n",
    "        Nd = 0.8*Td*index_rpa/(2*Ed)\n",
    "        #Nd = Td*index_rpa\n",
    "    return Nd"
   ]
  },
  {
   "cell_type": "code",
   "execution_count": 51,
   "metadata": {},
   "outputs": [
    {
     "data": {
      "text/plain": [
       "11.741313583119371"
      ]
     },
     "execution_count": 51,
     "metadata": {},
     "output_type": "execute_result"
    }
   ],
   "source": [
    "rpamodel(400,Ed)"
   ]
  },
  {
   "cell_type": "code",
   "execution_count": 29,
   "metadata": {},
   "outputs": [],
   "source": [
    "def  nrtmodel(Td,Ed):\n",
    "    if Td<Ed:\n",
    "        Nd = 0\n",
    "    elif Td<(2*Ed/0.8) and Td>Ed:\n",
    "        Nd = 1\n",
    "    else:\n",
    "        Nd = 0.8*Td/(2*Ed)\n",
    "    return Nd"
   ]
  },
  {
   "cell_type": "code",
   "execution_count": 30,
   "metadata": {},
   "outputs": [
    {
     "data": {
      "text/plain": [
       "4.0"
      ]
     },
     "execution_count": 30,
     "metadata": {},
     "output_type": "execute_result"
    }
   ],
   "source": [
    "nrtmodel(400,Ed)"
   ]
  },
  {
   "cell_type": "code",
   "execution_count": 83,
   "metadata": {},
   "outputs": [],
   "source": [
    "def  kpmodel(Td,Ed):\n",
    "    if Td<Ed:\n",
    "        Nd = 0\n",
    "    elif Td<(2*Ed) and Td>Ed:\n",
    "        Nd = 1\n",
    "    else:\n",
    "        Nd = Td/(2*Ed)\n",
    "    return Nd"
   ]
  },
  {
   "cell_type": "code",
   "execution_count": 85,
   "metadata": {},
   "outputs": [
    {
     "data": {
      "text/plain": [
       "5.0"
      ]
     },
     "execution_count": 85,
     "metadata": {},
     "output_type": "execute_result"
    }
   ],
   "source": [
    "kpmodel(400,Ed)"
   ]
  },
  {
   "cell_type": "code",
   "execution_count": 89,
   "metadata": {},
   "outputs": [
    {
     "data": {
      "image/png": "[encoded data removed]",
      "text/plain": [
       "<Figure size 432x288 with 1 Axes>"
      ]
     },
     "metadata": {
      "needs_background": "light"
     },
     "output_type": "display_data"
    }
   ],
   "source": [
    "energy,kpdata,nrtdata,arcdata,rpadata =[], [],[],[],[]\n",
    "for i in range(1,150000):\n",
    "#for i in np.linspace(0.001,100,1000):\n",
    "    energy.append(i*1e-3)\n",
    "    kpdata.append(kpmodel(i,Ed))\n",
    "    nrtdata.append(nrtmodel(i,Ed))\n",
    "    arcdata.append(arcdpamodel(i,Ed))\n",
    "    rpadata.append(rpamodel(i,Ed))\n",
    "\n",
    "plt.loglog(energy,kpdata,color='k',linewidth=2)  \n",
    "plt.loglog(energy,nrtdata,color='green',linewidth=2)\n",
    "plt.loglog(energy,arcdata,color='red',linewidth=2)\n",
    "plt.loglog(energy,rpadata,color='blue',linewidth=2)\n",
    "plt.show()\n",
    "        "
   ]
  },
  {
   "cell_type": "code",
   "execution_count": 91,
   "metadata": {},
   "outputs": [
    {
     "data": {
      "image/png": "[encoded data removed]",
      "text/plain": [
       "<Figure size 432x288 with 1 Axes>"
      ]
     },
     "metadata": {
      "needs_background": "light"
     },
     "output_type": "display_data"
    }
   ],
   "source": [
    "plt.plot(energy,kpdata,color='k',linewidth=2)  \n",
    "plt.plot(energy,nrtdata,color='green',linewidth=2)\n",
    "plt.show()"
   ]
  },
  {
   "cell_type": "code",
   "execution_count": 63,
   "metadata": {},
   "outputs": [
    {
     "data": {
      "image/png": "[encoded data removed]",
      "text/plain": [
       "<Figure size 432x288 with 1 Axes>"
      ]
     },
     "metadata": {
      "needs_background": "light"
     },
     "output_type": "display_data"
    }
   ],
   "source": [
    "plt.figure()\n",
    "plt.loglog(data_1[:,0],data_1[:,1],color='r',marker=\"o\",linestyle='None',label='Damage (MD,AMS)')\n",
    "plt.loglog(data_2[:,0],data_2[:,1],color='b',marker=\"^\",linestyle='None',label='Damage (MD,Stoller)')\n",
    "plt.loglog(data_3[:,0],data_3[:,1],color='g',marker=\"D\",linestyle='None',label='Damage (MD,DD-BN)')\n",
    "plt.loglog(data_4[:,0],data_4[:,1],color='c',marker=\"o\",linestyle='None',label='Damage (MD,AMS)')\n",
    "plt.loglog(data_5[0],data_5[1],color='m',marker=\"h\",linestyle='None',label='Damage (MD,MEA-BN)')\n",
    "plt.loglog(energy,nrtdata,color='green',linewidth=2,label='NRT-dpa damage prediction')\n",
    "plt.loglog(energy,arcdata,color='red',linewidth=2,label='Arc-dpa damage prediction')\n",
    "plt.loglog(energy,rpadata,color='blue',linewidth=2,label='Rpa damage prediction')\n",
    "plt.legend()\n",
    "plt.savefig('model.jpg')\n",
    "plt.show()"
   ]
  },
  {
   "cell_type": "code",
   "execution_count": 62,
   "metadata": {},
   "outputs": [
    {
     "data": {
      "text/plain": [
       "<Figure size 432x288 with 0 Axes>"
      ]
     },
     "metadata": {},
     "output_type": "display_data"
    }
   ],
   "source": [
    "plt.savefig('model.jpg')"
   ]
  },
  {
   "cell_type": "code",
   "execution_count": null,
   "metadata": {},
   "outputs": [],
   "source": []
  },
  {
   "cell_type": "code",
   "execution_count": null,
   "metadata": {},
   "outputs": [],
   "source": []
  },
  {
   "cell_type": "markdown",
   "metadata": {},
   "source": [
    "## Dpa cross section and PKA cross section"
   ]
  },
  {
   "cell_type": "code",
   "execution_count": 115,
   "metadata": {},
   "outputs": [],
   "source": [
    "# Basic Physics constant\n",
    "u    = 1.67*1e-27         # Atomic mass unit [kg]\n",
    "me   = 9.10938291*1e-31   # Electron mass[kg]\n",
    "mc = 1.99*1e-26           # Carbon atom\n",
    "hbar = 6.626*10e-34/(2*np.pi) \n",
    "e0   = 1.6*1e-19          # Electron charge [C]\n",
    "eV   = 1.6*1e-19          # Convert eV to Joul unit [J]\n",
    "keV  = 1.6*1e-16          # Convert keV to Joul unit [J]\n",
    "MeV  = 1.6*1e-13          # Convert MeV to Joul unit [j]\n",
    "Na   = 6.02*1e23          # Avogardo's constant [#/mol]\n",
    "a0   = 0.529*1e-10        # Bohr Radius\n",
    "c    = 2.99792458*1e8     # Speed of light [m/s]\n",
    "Ai   = 1e-10              # length unit [m]\n",
    "ke   = 8.987551*1e9       # 1/4/pi/electric_constant[N*m^2/C^2] \n"
   ]
  },
  {
   "cell_type": "code",
   "execution_count": 116,
   "metadata": {},
   "outputs": [
    {
     "data": {
      "text/plain": [
       "511.6940665911976"
      ]
     },
     "execution_count": 116,
     "metadata": {},
     "output_type": "execute_result"
    }
   ],
   "source": [
    "me*c*c/keV"
   ]
  },
  {
   "cell_type": "code",
   "execution_count": 118,
   "metadata": {},
   "outputs": [],
   "source": [
    "# relative velocity of electron\n",
    "def vector(E1,Ee0,c):\n",
    "    p2 = (Ee0/(E1+Ee0))**2\n",
    "    v = np.sqrt((1-p2)*c*c)\n",
    "    return v\n",
    "#  Basic interaction process of electro with atom\n",
    "Eei = 20*keV                # electron kinetic energy\n",
    "Za =  8                   # atomic number of target atom\n",
    "Ma =  15.99                   # mass number of target atom\n",
    "Em0 = Ma*mc*c*c/(12*keV)            # static energy of target atom\n",
    "Ee0 = me*c*c/keV            # static energy of electron\n",
    "Ed  = 0.025                   # threshold displacement energy [eV]\n",
    "alpha = Za/137\n"
   ]
  },
  {
   "cell_type": "code",
   "execution_count": 119,
   "metadata": {},
   "outputs": [],
   "source": [
    "# Cross section of PKA\n",
    "def sigmaPKA(T1,Ed,alpha,beta):\n",
    "    T2 = T1/Ed\n",
    "    T3 = 2*(np.sqrt(T2)-1)-np.log(T2)\n",
    "    C1 = 0.3136*(Za**2)*(1-beta**2)/(beta**4)\n",
    "    sigmaE = np.pi*C1*(T2-1-(beta**2)*np.log(T2)+np.pi*alpha*beta*T3)/4\n",
    "    return sigmaE"
   ]
  },
  {
   "cell_type": "code",
   "execution_count": 120,
   "metadata": {},
   "outputs": [
    {
     "data": {
      "image/png": "[encoded data removed]",
      "text/plain": [
       "<Figure size 432x288 with 1 Axes>"
      ]
     },
     "metadata": {
      "needs_background": "light"
     },
     "output_type": "display_data"
    }
   ],
   "source": [
    "energy,transfer = [],[]\n",
    "for i in range(1,131):\n",
    "    Ee = 10*i\n",
    "    v = vector(Ee,Ee0,c)\n",
    "    beta = v/c              # ration of electron velocity to light velocity\n",
    "    gamma2 = 1/(1-beta*beta)\n",
    "    energy.append(Ee)\n",
    "    Tm = 2*Ee*(Ee+2*Ee0)/Em0\n",
    "    sigmaE = sigmaPKA(Tm,Ed,alpha,beta)\n",
    "    transfer.append(sigmaE)\n",
    "plt.semilogy(energy,transfer,linewidth='2',linestyle='--',color='r')\n",
    "plt.show()"
   ]
  },
  {
   "cell_type": "code",
   "execution_count": null,
   "metadata": {},
   "outputs": [],
   "source": []
  },
  {
   "cell_type": "code",
   "execution_count": null,
   "metadata": {},
   "outputs": [],
   "source": []
  },
  {
   "cell_type": "markdown",
   "metadata": {},
   "source": [
    "## Plot Dpa and PKA cross sections with MCCM algorithms"
   ]
  },
  {
   "cell_type": "code",
   "execution_count": 76,
   "metadata": {},
   "outputs": [
    {
     "name": "stdout",
     "output_type": "stream",
     "text": [
      "['', '', '', '50.00000', '', '', '', '', '', '-121.4530', '', '', '', '', '', '0.0000000E+00\\n']\n"
     ]
    }
   ],
   "source": [
    "with open('datas/photon.txt') as filedata:\n",
    "    line1 = filedata.readline().split(\" \")\n",
    "    print(line1)\n",
    "#     for line in filedata:\n",
    "#         print(line)\n",
    "    \n",
    "        "
   ]
  },
  {
   "cell_type": "code",
   "execution_count": 79,
   "metadata": {},
   "outputs": [],
   "source": [
    "data_df = pd.read_csv(\"datas/photon.txt\",header=None)"
   ]
  },
  {
   "cell_type": "code",
   "execution_count": 80,
   "metadata": {},
   "outputs": [
    {
     "data": {
      "text/html": [
       "<div>\n",
       "<style scoped>\n",
       "    .dataframe tbody tr th:only-of-type {\n",
       "        vertical-align: middle;\n",
       "    }\n",
       "\n",
       "    .dataframe tbody tr th {\n",
       "        vertical-align: top;\n",
       "    }\n",
       "\n",
       "    .dataframe thead th {\n",
       "        text-align: right;\n",
       "    }\n",
       "</style>\n",
       "<table border=\"1\" class=\"dataframe\">\n",
       "  <thead>\n",
       "    <tr style=\"text-align: right;\">\n",
       "      <th></th>\n",
       "      <th>0</th>\n",
       "    </tr>\n",
       "  </thead>\n",
       "  <tbody>\n",
       "    <tr>\n",
       "      <th>0</th>\n",
       "      <td>50.00000      -121.4530      0.0000000E+00</td>\n",
       "    </tr>\n",
       "    <tr>\n",
       "      <th>1</th>\n",
       "      <td>100.0000       164.8587       164.8587</td>\n",
       "    </tr>\n",
       "    <tr>\n",
       "      <th>2</th>\n",
       "      <td>150.0000       112.8339      0.0000000E+00</td>\n",
       "    </tr>\n",
       "    <tr>\n",
       "      <th>3</th>\n",
       "      <td>200.0000       71.34660      0.0000000E+00</td>\n",
       "    </tr>\n",
       "    <tr>\n",
       "      <th>4</th>\n",
       "      <td>250.0000       45.14634      0.0000000E+00</td>\n",
       "    </tr>\n",
       "  </tbody>\n",
       "</table>\n",
       "</div>"
      ],
      "text/plain": [
       "                                               0\n",
       "0     50.00000      -121.4530      0.0000000E+00\n",
       "1     100.0000       164.8587       164.8587    \n",
       "2     150.0000       112.8339      0.0000000E+00\n",
       "3     200.0000       71.34660      0.0000000E+00\n",
       "4     250.0000       45.14634      0.0000000E+00"
      ]
     },
     "execution_count": 80,
     "metadata": {},
     "output_type": "execute_result"
    }
   ],
   "source": [
    "data_df.head()"
   ]
  },
  {
   "cell_type": "code",
   "execution_count": 81,
   "metadata": {},
   "outputs": [
    {
     "data": {
      "text/plain": [
       "(120, 1)"
      ]
     },
     "execution_count": 81,
     "metadata": {},
     "output_type": "execute_result"
    }
   ],
   "source": [
    "data_df.shape"
   ]
  },
  {
   "cell_type": "code",
   "execution_count": null,
   "metadata": {},
   "outputs": [],
   "source": []
  },
  {
   "cell_type": "markdown",
   "metadata": {},
   "source": [
    "## Gamma-ray energy transformation with electron"
   ]
  },
  {
   "cell_type": "code",
   "execution_count": 137,
   "metadata": {},
   "outputs": [
    {
     "data": {
      "image/png": "[encoded data removed]",
      "text/plain": [
       "<Figure size 432x288 with 1 Axes>"
      ]
     },
     "metadata": {
      "needs_background": "light"
     },
     "output_type": "display_data"
    }
   ],
   "source": [
    "E_Co = 1.25   #MeV\n",
    "theta,Egamma,Electron = [],[],[]\n",
    "for i in np.linspace(0,2*np.pi,50):\n",
    "    theta.append(i)\n",
    "    Eg = E_Co/(1+E_Co*(1-np.cos(i))/0.511)\n",
    "    Egamma.append(Eg)\n",
    "    Electron.append(E_Co-Eg)\n",
    "    \n",
    "plt.plot(theta,Egamma,linewidth=2,color='green',marker='o',label='scatter photon')\n",
    "plt.plot(theta,Electron,linewidth=2,color='blue',marker='o',label='scatter electron')\n",
    "plt.plot([theta[0],theta[-1]],[0.236,0.236],linewidth=3,linestyle='-.',color='red',label='Minimium energy of O atom')\n",
    "plt.plot([theta[0],theta[-1]],[1.316,1.316],linewidth=3,linestyle=':',color='magenta',label='Minumium energy of Ti atom')\n",
    "plt.xlabel('Scattering Angle(o)')\n",
    "plt.ylabel('Energy After Primary Compton Scattering(MeV)')\n",
    "plt.axis([0,2*np.pi,0,1.4])\n",
    "plt.legend()\n",
    "plt.savefig('photon.jpg')\n",
    "plt.show()"
   ]
  },
  {
   "cell_type": "code",
   "execution_count": 121,
   "metadata": {},
   "outputs": [
    {
     "data": {
      "text/plain": [
       "511.6940665911976"
      ]
     },
     "execution_count": 121,
     "metadata": {},
     "output_type": "execute_result"
    }
   ],
   "source": [
    "Ee0"
   ]
  },
  {
   "cell_type": "code",
   "execution_count": 122,
   "metadata": {},
   "outputs": [
    {
     "data": {
      "text/plain": [
       "14895041.491105944"
      ]
     },
     "execution_count": 122,
     "metadata": {},
     "output_type": "execute_result"
    }
   ],
   "source": [
    "Em0"
   ]
  },
  {
   "cell_type": "code",
   "execution_count": 124,
   "metadata": {},
   "outputs": [
    {
     "data": {
      "text/plain": [
       "[-1.25984622197589, 0.236458088793491]"
      ]
     },
     "execution_count": 124,
     "metadata": {},
     "output_type": "execute_result"
    }
   ],
   "source": [
    "from sympy import *\n",
    "Ee = symbols('Ee')\n",
    "solve(Ee*(Ee+2*Ee0*1e-3)/(Em0*1e-3)-20*1e-6,Ee)"
   ]
  },
  {
   "cell_type": "code",
   "execution_count": 125,
   "metadata": {},
   "outputs": [
    {
     "data": {
      "text/plain": [
       "[-2.33889873564462, 1.31551060246222]"
      ]
     },
     "execution_count": 125,
     "metadata": {},
     "output_type": "execute_result"
    }
   ],
   "source": [
    "Em01 = 47.87*mc*c*c/(12*keV)\n",
    "Ee = symbols('Ee')\n",
    "solve(Ee*(Ee+2*Ee0*1e-3)/(Em01*1e-3)-69*1e-6,Ee)"
   ]
  },
  {
   "cell_type": "code",
   "execution_count": null,
   "metadata": {},
   "outputs": [],
   "source": []
  },
  {
   "cell_type": "code",
   "execution_count": null,
   "metadata": {},
   "outputs": [],
   "source": []
  },
  {
   "cell_type": "code",
   "execution_count": null,
   "metadata": {},
   "outputs": [],
   "source": []
  },
  {
   "cell_type": "code",
   "execution_count": null,
   "metadata": {},
   "outputs": [],
   "source": []
  },
  {
   "cell_type": "code",
   "execution_count": null,
   "metadata": {},
   "outputs": [],
   "source": []
  },
  {
   "cell_type": "code",
   "execution_count": null,
   "metadata": {},
   "outputs": [],
   "source": []
  },
  {
   "cell_type": "code",
   "execution_count": null,
   "metadata": {},
   "outputs": [],
   "source": []
  },
  {
   "cell_type": "code",
   "execution_count": null,
   "metadata": {},
   "outputs": [],
   "source": []
  },
  {
   "cell_type": "code",
   "execution_count": null,
   "metadata": {},
   "outputs": [],
   "source": []
  }
 ],
 "metadata": {
  "kernelspec": {
   "display_name": "Python 3",
   "language": "python",
   "name": "python3"
  },
  "language_info": {
   "codemirror_mode": {
    "name": "ipython",
    "version": 3
   },
   "file_extension": ".py",
   "mimetype": "text/x-python",
   "name": "python",
   "nbconvert_exporter": "python",
   "pygments_lexer": "ipython3",
   "version": "3.6.6"
  },
  "toc": {
   "base_numbering": 1,
   "nav_menu": {},
   "number_sections": true,
   "sideBar": true,
   "skip_h1_title": false,
   "title_cell": "Table of Contents",
   "title_sidebar": "Contents",
   "toc_cell": false,
   "toc_position": {},
   "toc_section_display": true,
   "toc_window_display": true
  }
 },
 "nbformat": 4,
 "nbformat_minor": 2
}
