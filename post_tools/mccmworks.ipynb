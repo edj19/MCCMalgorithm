{
 "cells": [
  {
   "cell_type": "markdown",
   "metadata": {},
   "source": [
    "# MCNP5 photon transport calculation based on the MCCM algorithm"
   ]
  },
  {
   "cell_type": "markdown",
   "metadata": {},
   "source": [
    "- 输入脚本-mcnp\n",
    "\n",
    "**F4 -记录光谱  ELC --将电子和正电子进行区分**"
   ]
  },
  {
   "cell_type": "markdown",
   "metadata": {},
   "source": [
    "mcnp\n",
    "The calculation in Titanium oxide                                               \n",
    "1 1 -4.23 2 -1 4 -3 5 -6 fill=1 imp:p,e 1                                       \n",
    "10 1 -4.23 2 -1 4 -3 5 -10 lat=1 u=1 imp:p,e 1                                  \n",
    "100 2 -0.001293 (101 -102 -100)#1 imp:p,e 1                                     \n",
    "999 0 -101:102:100  imp:p=0  imp:e=0                                            \n",
    "                                                                                \n",
    "1 px 0.5                                                                        \n",
    "2 px -0.5                                                                       \n",
    "3 py 0.5                                                                        \n",
    "4 py -0.5                                                                       \n",
    "5 pz 0.01                                                                        \n",
    "6 pz 0.16 \n",
    "7 px -0.49 \n",
    "8 py -0.49                                                                    \n",
    "10 pz 0.02                                                                     \n",
    "100 cz 0.9                                                                      \n",
    "101 pz -0.1                                                                     \n",
    "102 pz 6.0                                                                      \n",
    "                                                                                \n",
    "mode p e                                                                        \n",
    "m1 22000 1 8016 2                                                               \n",
    "m2 7014  -0.755636 8016  -0.231475 18000  -0.012889 \n",
    "sdef pos=0 0 0 axs=0 0 1  x=d1 y=d2 z=0  erg=10.0 par=2 vec=0 0 1 dir=1                                             \n",
    "si1 -0.5 0.5                                                                    \n",
    "sp1 0 1                                                                         \n",
    "si2 -0.5 0.5\n",
    "sp2 0 1  \n",
    "e1 0 999i 10.0 \n",
    "e4 0 999i 10.0                                                                                                     \n",
    "F1:e 10                                                                                                                                         \n",
    "c e6 0 61i 0.622                                                                 \n",
    "F4:e 10 \n",
    "FT4 ELC 3\n",
    "c *FMESH4:e geom=xyz   origin=-0.5 -0.5 0.01\n",
    "c          imesh=0.5   iints=10\n",
    "c          jmesh=0.5   jints=10\n",
    "c           kmesh=0.11  kints=1 \n",
    "c          emesh=0.001 0.62   out=ij                                                                    \n",
    "c *F4:e (10<10[-9:0 -9:0 0:0]) \n",
    "c F6:p 10 \n",
    "c *F8:p 10                                                   \n",
    "c F6:p 10 (10<10[0:0 0:0 -9:0])                                                                                                                \n",
    "cut:e j 0.001                                                                   \n",
    "cut:p j 0.001\n",
    "PHYS:P 4j 1 \n",
    "nps 20000000\n",
    "print                                                                  \n",
    "       "
   ]
  },
  {
   "cell_type": "markdown",
   "metadata": {},
   "source": [
    "## 1. Extract the flux energy from the mcnp OUTPUT file"
   ]
  },
  {
   "cell_type": "code",
   "execution_count": 87,
   "metadata": {},
   "outputs": [],
   "source": [
    "def extract_flux(filename):\n",
    "    index=0\n",
    "    list_energy=[]\n",
    "    list_total=[]\n",
    "    list_electron=[]\n",
    "    list_positron=[]\n",
    "    with open(filename,\"r\") as f:\n",
    "        line=f.readline()\n",
    "        while line:\n",
    "            if line[:9]==' cell  10':\n",
    "                f.readline()\n",
    "                index=index+1\n",
    "                for i in range(126):\n",
    "                    energy,f4,error = f.readline().split()\n",
    "                    list_energy.append(energy)\n",
    "                    if(index==1):\n",
    "                        list_positron.append(f4)\n",
    "                    elif(index==2):\n",
    "                        list_electron.append(f4)\n",
    "                    else:\n",
    "                        list_total.append(f4)\n",
    "            line=f.readline()\n",
    "        print(list_total)\n",
    "    return list_energy,list_total,list_electron,list_positron\n",
    "                            \n",
    "              "
   ]
  },
  {
   "cell_type": "code",
   "execution_count": 88,
   "metadata": {},
   "outputs": [
    {
     "name": "stdout",
     "output_type": "stream",
     "text": [
      "[]\n"
     ]
    },
    {
     "data": {
      "image/png": "[encoded data removed]",
      "text/plain": [
       "<Figure size 432x288 with 1 Axes>"
      ]
     },
     "metadata": {
      "needs_background": "light"
     },
     "output_type": "display_data"
    }
   ],
   "source": [
    "import matplotlib.pylab as plt\n",
    "import numpy as np\n",
    "filename = \"outp\"\n",
    "energy,total,electron,positron=extract_flux(filename)\n",
    "energy_x=energy[:301]\n",
    "plt.plot(energy_x,total,'ro')\n",
    "# plt.xlim((0.0,3.0))\n",
    "# plt.ylim((0.0,0.000007))\n",
    "# plt.plot(energy_x,electron,'go')\n",
    "# plt.plot(energy_x,positron,'b-')\n",
    "plt.show()\n"
   ]
  },
  {
   "cell_type": "markdown",
   "metadata": {},
   "source": [
    "**下图显示了光子输运过程中电子、正电子和总的电子数的通量密度随能量的变化**"
   ]
  },
  {
   "cell_type": "markdown",
   "metadata": {},
   "source": [
    "<img src=\"../figures/fig1.jpg\"/>"
   ]
  },
  {
   "cell_type": "markdown",
   "metadata": {},
   "source": [
    "<font color=red size=\"3\"> 由于上述mcnp的特殊处理，上述图像位于x轴下方的实际在上方,如下图所示</font>"
   ]
  },
  {
   "cell_type": "markdown",
   "metadata": {},
   "source": [
    "<img src=\"../figures/fig2.jpg\">"
   ]
  },
  {
   "cell_type": "markdown",
   "metadata": {},
   "source": [
    "<font size=\"4\" color=red> 最后得到的总的电子数目的谱，与MCCM算法类似</font>"
   ]
  },
  {
   "cell_type": "markdown",
   "metadata": {},
   "source": [
    "<img src=\"../figures/fig3.jpg\">"
   ]
  },
  {
   "cell_type": "markdown",
   "metadata": {},
   "source": [
    "# 2. 提取数据，能量范围（1.25-10MeV）"
   ]
  },
  {
   "cell_type": "markdown",
   "metadata": {},
   "source": [
    "## 2.1在一个文件目录下批处理mcnp文件"
   ]
  },
  {
   "cell_type": "code",
   "execution_count": 16,
   "metadata": {},
   "outputs": [
    {
     "data": {
      "text/plain": [
       "\u001b[1;32mimport\u001b[0m \u001b[0mos\u001b[0m\u001b[1;33m\n",
       "\u001b[0m\u001b[1;32mimport\u001b[0m \u001b[0mnumpy\u001b[0m \u001b[1;32mas\u001b[0m \u001b[0mnp\u001b[0m\u001b[1;33m\n",
       "\u001b[0m\u001b[1;33m\n",
       "\u001b[0m\u001b[1;32mdef\u001b[0m \u001b[0meachFile\u001b[0m\u001b[1;33m(\u001b[0m\u001b[0mfilepath\u001b[0m\u001b[1;33m)\u001b[0m\u001b[1;33m:\u001b[0m\u001b[1;33m\n",
       "\u001b[0m        \u001b[0mj\u001b[0m\u001b[1;33m=\u001b[0m\u001b[1;36m0\u001b[0m\u001b[1;33m\n",
       "\u001b[0m        \u001b[0mpathDir\u001b[0m \u001b[1;33m=\u001b[0m \u001b[0mos\u001b[0m\u001b[1;33m.\u001b[0m\u001b[0mlistdir\u001b[0m\u001b[1;33m(\u001b[0m\u001b[0mfilepath\u001b[0m\u001b[1;33m)\u001b[0m   \u001b[1;31m#获取当前路径下的文件名，返回list\u001b[0m\u001b[1;33m\n",
       "\u001b[0m        \u001b[1;32mfor\u001b[0m \u001b[0ms\u001b[0m \u001b[1;32min\u001b[0m \u001b[0mpathDir\u001b[0m\u001b[1;33m:\u001b[0m\u001b[1;33m\n",
       "\u001b[0m                \u001b[0mnewDir\u001b[0m\u001b[1;33m=\u001b[0m\u001b[0mos\u001b[0m\u001b[1;33m.\u001b[0m\u001b[0mpath\u001b[0m\u001b[1;33m.\u001b[0m\u001b[0mjoin\u001b[0m\u001b[1;33m(\u001b[0m\u001b[0mfilepath\u001b[0m\u001b[1;33m,\u001b[0m\u001b[0ms\u001b[0m\u001b[1;33m)\u001b[0m   \u001b[1;31m#将文件名写入到当前文件路径后面\u001b[0m\u001b[1;33m\n",
       "\u001b[0m                \u001b[1;32mif\u001b[0m \u001b[0mos\u001b[0m\u001b[1;33m.\u001b[0m\u001b[0mpath\u001b[0m\u001b[1;33m.\u001b[0m\u001b[0misfile\u001b[0m\u001b[1;33m(\u001b[0m\u001b[0mnewDir\u001b[0m\u001b[1;33m)\u001b[0m\u001b[1;33m:\u001b[0m \u001b[1;31m#如果是文件\u001b[0m\u001b[1;33m\n",
       "\u001b[0m                    \u001b[1;32mif\u001b[0m \u001b[0mos\u001b[0m\u001b[1;33m.\u001b[0m\u001b[0mpath\u001b[0m\u001b[1;33m.\u001b[0m\u001b[0msplitext\u001b[0m\u001b[1;33m(\u001b[0m\u001b[0mnewDir\u001b[0m\u001b[1;33m)\u001b[0m\u001b[1;33m[\u001b[0m\u001b[1;36m1\u001b[0m\u001b[1;33m]\u001b[0m\u001b[1;33m==\u001b[0m\u001b[1;34m\".txt\"\u001b[0m\u001b[1;33m:\u001b[0m  \u001b[1;31m#判断是否是txt\u001b[0m\u001b[1;33m\n",
       "\u001b[0m                        \u001b[0mreadFile\u001b[0m\u001b[1;33m(\u001b[0m\u001b[0mnewDir\u001b[0m\u001b[1;33m)\u001b[0m\u001b[1;33m\n",
       "\u001b[0m                        \u001b[0mj\u001b[0m\u001b[1;33m=\u001b[0m\u001b[0mj\u001b[0m\u001b[1;33m+\u001b[0m\u001b[1;36m1\u001b[0m\u001b[1;33m\n",
       "\u001b[0m                        \u001b[0mprint\u001b[0m\u001b[1;33m(\u001b[0m\u001b[0mj\u001b[0m\u001b[1;33m)\u001b[0m\u001b[1;33m\n",
       "\u001b[0m                        \u001b[1;32mpass\u001b[0m\u001b[1;33m\n",
       "\u001b[0m                    \u001b[1;32melse\u001b[0m\u001b[1;33m:\u001b[0m\u001b[1;33m\n",
       "\u001b[0m                        \u001b[1;32mbreak\u001b[0m\u001b[1;33m\n",
       "\u001b[0m                        \u001b[1;31m# eachFile(newDir)\u001b[0m\u001b[1;33m\n",
       "\u001b[0m\u001b[1;33m\n",
       "\u001b[0m\u001b[1;33m\n",
       "\u001b[0m\u001b[1;33m\n",
       "\u001b[0m\u001b[1;32mdef\u001b[0m \u001b[0mreadFile\u001b[0m\u001b[1;33m(\u001b[0m\u001b[0mfilepath\u001b[0m\u001b[1;33m)\u001b[0m\u001b[1;33m:\u001b[0m\u001b[1;33m\n",
       "\u001b[0m        \u001b[1;31m# f_energy = open(\"energy.txt\",\"w\")\u001b[0m\u001b[1;33m\n",
       "\u001b[0m        \u001b[1;31m# i=0\u001b[0m\u001b[1;33m\n",
       "\u001b[0m        \u001b[0mindex\u001b[0m\u001b[1;33m=\u001b[0m\u001b[1;36m0\u001b[0m                  \u001b[1;31m#控制数据存入不同的list\u001b[0m\u001b[1;33m\n",
       "\u001b[0m        \u001b[1;31m# list_total=[]\u001b[0m\u001b[1;33m\n",
       "\u001b[0m        \u001b[1;31m# list_electron=[]\u001b[0m\u001b[1;33m\n",
       "\u001b[0m        \u001b[1;31m# list_positron=[]\u001b[0m\u001b[1;33m\n",
       "\u001b[0m        \u001b[1;32mwith\u001b[0m \u001b[0mopen\u001b[0m\u001b[1;33m(\u001b[0m\u001b[0mfilepath\u001b[0m\u001b[1;33m,\u001b[0m\u001b[1;34m\"r\"\u001b[0m\u001b[1;33m)\u001b[0m \u001b[1;32mas\u001b[0m \u001b[0mf\u001b[0m\u001b[1;33m:\u001b[0m\u001b[1;33m\n",
       "\u001b[0m                \u001b[0mline\u001b[0m\u001b[1;33m=\u001b[0m\u001b[0mf\u001b[0m\u001b[1;33m.\u001b[0m\u001b[0mreadline\u001b[0m\u001b[1;33m(\u001b[0m\u001b[1;33m)\u001b[0m\u001b[1;33m\n",
       "\u001b[0m\u001b[1;31m#               print(line)\u001b[0m\u001b[1;33m\n",
       "\u001b[0m                \u001b[1;32mwhile\u001b[0m \u001b[0mline\u001b[0m\u001b[1;33m:\u001b[0m\u001b[1;33m\n",
       "\u001b[0m                        \u001b[1;32mif\u001b[0m \u001b[0mline\u001b[0m\u001b[1;33m[\u001b[0m\u001b[1;33m:\u001b[0m\u001b[1;36m9\u001b[0m\u001b[1;33m]\u001b[0m\u001b[1;33m==\u001b[0m\u001b[1;34m' cell  10'\u001b[0m\u001b[1;33m:\u001b[0m     \u001b[1;31m#根据关键词抽取数据\u001b[0m\u001b[1;33m\n",
       "\u001b[0m                                \u001b[0mf\u001b[0m\u001b[1;33m.\u001b[0m\u001b[0mreadline\u001b[0m\u001b[1;33m(\u001b[0m\u001b[1;33m)\u001b[0m\u001b[1;33m\n",
       "\u001b[0m                                \u001b[0mindex\u001b[0m\u001b[1;33m=\u001b[0m\u001b[0mindex\u001b[0m\u001b[1;33m+\u001b[0m\u001b[1;36m1\u001b[0m\u001b[1;33m\n",
       "\u001b[0m                                \u001b[1;32mfor\u001b[0m \u001b[0mi\u001b[0m \u001b[1;32min\u001b[0m \u001b[0mrange\u001b[0m\u001b[1;33m(\u001b[0m\u001b[1;36m126\u001b[0m\u001b[1;33m)\u001b[0m\u001b[1;33m:\u001b[0m       \u001b[1;31m#抽取的数据格式\u001b[0m\u001b[1;33m\n",
       "\u001b[0m                                        \u001b[0menergy\u001b[0m\u001b[1;33m,\u001b[0m\u001b[0mf4\u001b[0m\u001b[1;33m,\u001b[0m\u001b[0merror\u001b[0m\u001b[1;33m=\u001b[0m\u001b[0mf\u001b[0m\u001b[1;33m.\u001b[0m\u001b[0mreadline\u001b[0m\u001b[1;33m(\u001b[0m\u001b[1;33m)\u001b[0m\u001b[1;33m.\u001b[0m\u001b[0msplit\u001b[0m\u001b[1;33m(\u001b[0m\u001b[1;33m)\u001b[0m\u001b[1;33m\n",
       "\u001b[0m                                        \u001b[1;32mif\u001b[0m\u001b[1;33m(\u001b[0m\u001b[0mindex\u001b[0m\u001b[1;33m==\u001b[0m\u001b[1;36m1\u001b[0m\u001b[1;33m)\u001b[0m\u001b[1;33m:\u001b[0m\u001b[1;33m\n",
       "\u001b[0m                                                \u001b[0mlist_total\u001b[0m\u001b[1;33m.\u001b[0m\u001b[0mappend\u001b[0m\u001b[1;33m(\u001b[0m\u001b[0mf4\u001b[0m\u001b[1;33m)\u001b[0m\u001b[1;33m\n",
       "\u001b[0m                                        \u001b[1;32melif\u001b[0m\u001b[1;33m(\u001b[0m\u001b[0mindex\u001b[0m\u001b[1;33m==\u001b[0m\u001b[1;36m2\u001b[0m\u001b[1;33m)\u001b[0m\u001b[1;33m:\u001b[0m\u001b[1;33m\n",
       "\u001b[0m                                                \u001b[0mlist_electron\u001b[0m\u001b[1;33m.\u001b[0m\u001b[0mappend\u001b[0m\u001b[1;33m(\u001b[0m\u001b[0mf4\u001b[0m\u001b[1;33m)\u001b[0m\u001b[1;33m\n",
       "\u001b[0m                                        \u001b[1;32melse\u001b[0m\u001b[1;33m:\u001b[0m\u001b[1;33m\n",
       "\u001b[0m                                                \u001b[0mlist_positron\u001b[0m\u001b[1;33m.\u001b[0m\u001b[0mappend\u001b[0m\u001b[1;33m(\u001b[0m\u001b[0mf4\u001b[0m\u001b[1;33m)\u001b[0m\u001b[1;33m\n",
       "\u001b[0m                                        \u001b[1;31m# f_energy.write(str(f4)+' ')\u001b[0m\u001b[1;33m\n",
       "\u001b[0m                                        \u001b[1;31m# f_energy.write('\\n')\u001b[0m\u001b[1;33m\n",
       "\u001b[0m                                \u001b[1;31m# i=i+1\u001b[0m\u001b[1;33m\n",
       "\u001b[0m                                \u001b[1;31m# energy,f4,error=f.readline().split()\u001b[0m\u001b[1;33m\n",
       "\u001b[0m                                \u001b[1;31m# # flux4.append(f4)\u001b[0m\u001b[1;33m\n",
       "\u001b[0m                                \u001b[1;31m# f_energy.write(str(f4)+' ')\u001b[0m\u001b[1;33m\n",
       "\u001b[0m                                \u001b[1;31m# f_energy.write('\\n')\u001b[0m\u001b[1;33m\n",
       "\u001b[0m                                \u001b[1;31m# if (i%125==0):\u001b[0m\u001b[1;33m\n",
       "\u001b[0m                                \u001b[1;31m#       break\u001b[0m\u001b[1;33m\n",
       "\u001b[0m                                \u001b[1;31m# else:\u001b[0m\u001b[1;33m\n",
       "\u001b[0m                                \u001b[1;31m#       fout.write(str(f4)+' ')\u001b[0m\u001b[1;33m\n",
       "\u001b[0m                                \u001b[1;31m# # f.readline()\u001b[0m\u001b[1;33m\n",
       "\u001b[0m                        \u001b[0mline\u001b[0m\u001b[1;33m=\u001b[0m\u001b[0mf\u001b[0m\u001b[1;33m.\u001b[0m\u001b[0mreadline\u001b[0m\u001b[1;33m(\u001b[0m\u001b[1;33m)\u001b[0m\u001b[1;33m\n",
       "\u001b[0m\u001b[1;31m#               print(list_electron)\u001b[0m\u001b[1;33m\n",
       "\u001b[0m        \u001b[1;31m# f_energy.close()\u001b[0m\u001b[1;33m\n",
       "\u001b[0m        \u001b[1;31m# print(i)\u001b[0m\u001b[1;33m\n",
       "\u001b[0m\u001b[1;33m\n",
       "\u001b[0m\u001b[1;33m\n",
       "\u001b[0m\u001b[1;33m\n",
       "\u001b[0m\u001b[1;33m\n",
       "\u001b[0m\u001b[1;32mdef\u001b[0m \u001b[0mmain\u001b[0m\u001b[1;33m(\u001b[0m\u001b[1;33m)\u001b[0m\u001b[1;33m:\u001b[0m\u001b[1;33m\n",
       "\u001b[0m        \u001b[1;32mglobal\u001b[0m \u001b[0mlist_total\u001b[0m\u001b[1;33m,\u001b[0m\u001b[0mlist_electron\u001b[0m\u001b[1;33m,\u001b[0m\u001b[0mlist_positron\u001b[0m      \u001b[1;31m#定义全局变量，可以将所有数据都存入list中\u001b[0m\u001b[1;33m\n",
       "\u001b[0m        \u001b[0mfp\u001b[0m\u001b[1;33m=\u001b[0m\u001b[1;34mr'F:\\\\MCwork\\\\MCCM\\\\scripts\\\\filesworks'\u001b[0m\u001b[1;33m\n",
       "\u001b[0m        \u001b[0mos\u001b[0m\u001b[1;33m.\u001b[0m\u001b[0mchdir\u001b[0m\u001b[1;33m(\u001b[0m\u001b[0mfp\u001b[0m\u001b[1;33m)\u001b[0m\u001b[1;33m\n",
       "\u001b[0m        \u001b[0meachFile\u001b[0m\u001b[1;33m(\u001b[0m\u001b[0mfp\u001b[0m\u001b[1;33m)\u001b[0m\u001b[1;33m\n",
       "\u001b[0m        \u001b[0moutput\u001b[0m \u001b[1;33m=\u001b[0m\u001b[0mopen\u001b[0m\u001b[1;33m(\u001b[0m\u001b[1;34m\"flux.txt\"\u001b[0m\u001b[1;33m,\u001b[0m\u001b[1;34m'w'\u001b[0m\u001b[1;33m)\u001b[0m    \u001b[1;31m#将list存入相应的文件中，便于后期处理\u001b[0m\u001b[1;33m\n",
       "\u001b[0m        \u001b[0mprint\u001b[0m\u001b[1;33m(\u001b[0m\u001b[0mlen\u001b[0m\u001b[1;33m(\u001b[0m\u001b[0mlist_electron\u001b[0m\u001b[1;33m)\u001b[0m\u001b[1;33m)\u001b[0m\u001b[1;33m\n",
       "\u001b[0m        \u001b[0mlistdata_total\u001b[0m\u001b[1;33m=\u001b[0m\u001b[0mlist\u001b[0m\u001b[1;33m(\u001b[0m\u001b[0mnp\u001b[0m\u001b[1;33m.\u001b[0m\u001b[0mreshape\u001b[0m\u001b[1;33m(\u001b[0m\u001b[0mlist_total\u001b[0m\u001b[1;33m,\u001b[0m\u001b[1;33m(\u001b[0m\u001b[1;36m15\u001b[0m\u001b[1;33m,\u001b[0m\u001b[1;36m126\u001b[0m\u001b[1;33m)\u001b[0m\u001b[1;33m)\u001b[0m\u001b[1;33m.\u001b[0m\u001b[0mT\u001b[0m\u001b[1;33m)\u001b[0m    \u001b[1;31m#改变数组维度，存储\u001b[0m\u001b[1;33m\n",
       "\u001b[0m        \u001b[1;32mfor\u001b[0m \u001b[0mi\u001b[0m \u001b[1;32min\u001b[0m \u001b[0mrange\u001b[0m\u001b[1;33m(\u001b[0m\u001b[1;36m126\u001b[0m\u001b[1;33m)\u001b[0m\u001b[1;33m:\u001b[0m                      \u001b[1;31m#数据读入相应文件的第一种方法，第一篇博客有介绍\u001b[0m\u001b[1;33m\n",
       "\u001b[0m                \u001b[1;32mfor\u001b[0m \u001b[0mj\u001b[0m \u001b[1;32min\u001b[0m \u001b[0mrange\u001b[0m\u001b[1;33m(\u001b[0m\u001b[1;36m15\u001b[0m\u001b[1;33m)\u001b[0m\u001b[1;33m:\u001b[0m\u001b[1;33m\n",
       "\u001b[0m                        \u001b[0moutput\u001b[0m\u001b[1;33m.\u001b[0m\u001b[0mwrite\u001b[0m\u001b[1;33m(\u001b[0m\u001b[0mlistdata_total\u001b[0m\u001b[1;33m[\u001b[0m\u001b[0mi\u001b[0m\u001b[1;33m]\u001b[0m\u001b[1;33m[\u001b[0m\u001b[0mj\u001b[0m\u001b[1;33m]\u001b[0m\u001b[1;33m+\u001b[0m\u001b[1;34m' '\u001b[0m\u001b[1;33m)\u001b[0m\u001b[1;33m\n",
       "\u001b[0m                        \u001b[0moutput\u001b[0m\u001b[1;33m.\u001b[0m\u001b[0mwrite\u001b[0m\u001b[1;33m(\u001b[0m\u001b[1;34m'\\t'\u001b[0m\u001b[1;33m)\u001b[0m\u001b[1;33m\n",
       "\u001b[0m                \u001b[0moutput\u001b[0m\u001b[1;33m.\u001b[0m\u001b[0mwrite\u001b[0m\u001b[1;33m(\u001b[0m\u001b[1;34m'\\n'\u001b[0m\u001b[1;33m)\u001b[0m\u001b[1;33m\n",
       "\u001b[0m        \u001b[1;31m# ftest=open(\"test.txt\",\"w\")\u001b[0m\u001b[1;33m\n",
       "\u001b[0m        \u001b[1;31m# list1 = [[1,2,3],[4,5,6]]\u001b[0m\u001b[1;33m\n",
       "\u001b[0m        \u001b[1;31m# #numpy\u001b[0m\u001b[1;33m\n",
       "\u001b[0m        \u001b[1;31m# np.savetxt('a.txt',list1)\u001b[0m\u001b[1;33m\n",
       "\u001b[0m        \u001b[0moutput\u001b[0m\u001b[1;33m.\u001b[0m\u001b[0mclose\u001b[0m\u001b[1;33m(\u001b[0m\u001b[1;33m)\u001b[0m\u001b[1;33m\n",
       "\u001b[0m\u001b[1;33m\n",
       "\u001b[0m        \u001b[1;31m#pandas\u001b[0m\u001b[1;33m\n",
       "\u001b[0m        \u001b[1;31m# df\u001b[0m\u001b[1;33m\n",
       "\u001b[0m        \u001b[1;31m# ftest.write('The test one txt file\\n')\u001b[0m\u001b[1;33m\n",
       "\u001b[0m        \u001b[1;31m# ftest.write(str(list1))\u001b[0m\u001b[1;33m\n",
       "\u001b[0m        \u001b[1;31m# ftest.close()\u001b[0m\u001b[1;33m\n",
       "\u001b[0m\u001b[1;33m\n",
       "\u001b[0m\u001b[1;33m\n",
       "\u001b[0m\u001b[1;33m\n",
       "\u001b[0m\u001b[1;33m\n",
       "\u001b[0m\u001b[1;32mif\u001b[0m \u001b[0m__name__\u001b[0m \u001b[1;33m==\u001b[0m \u001b[1;34m'__main__'\u001b[0m\u001b[1;33m:\u001b[0m\u001b[1;33m\n",
       "\u001b[0m        \u001b[0mlist_electron\u001b[0m\u001b[1;33m=\u001b[0m\u001b[1;33m[\u001b[0m\u001b[1;33m]\u001b[0m\u001b[1;33m\n",
       "\u001b[0m        \u001b[0mlist_total\u001b[0m\u001b[1;33m=\u001b[0m\u001b[1;33m[\u001b[0m\u001b[1;33m]\u001b[0m\u001b[1;33m\n",
       "\u001b[0m        \u001b[0mlist_positron\u001b[0m\u001b[1;33m=\u001b[0m\u001b[1;33m[\u001b[0m\u001b[1;33m]\u001b[0m\u001b[1;33m\n",
       "\u001b[0m        \u001b[0mmain\u001b[0m\u001b[1;33m(\u001b[0m\u001b[1;33m)\u001b[0m\u001b[1;33m\u001b[0m\u001b[0m\n"
      ]
     },
     "metadata": {},
     "output_type": "display_data"
    }
   ],
   "source": [
    "%pycat files.py"
   ]
  },
  {
   "cell_type": "markdown",
   "metadata": {},
   "source": [
    "<font size=\"5\" color=blue>在jupyter lab下运行目录下的python文件(%run examples.py)</font>"
   ]
  },
  {
   "cell_type": "code",
   "execution_count": 31,
   "metadata": {},
   "outputs": [
    {
     "name": "stdout",
     "output_type": "stream",
     "text": [
      "1\n",
      "2\n",
      "3\n",
      "4\n",
      "5\n",
      "6\n",
      "7\n",
      "8\n",
      "9\n",
      "10\n",
      "11\n",
      "12\n",
      "13\n",
      "14\n",
      "15\n",
      "1890\n"
     ]
    }
   ],
   "source": [
    "%run files.py"
   ]
  },
  {
   "cell_type": "markdown",
   "metadata": {},
   "source": [
    "## 2.2Python 从一个文件中提取相应的谱数据"
   ]
  },
  {
   "cell_type": "code",
   "execution_count": 45,
   "metadata": {},
   "outputs": [],
   "source": [
    "def file_flux(filename,number):\n",
    "    index=0\n",
    "    list_total=[]\n",
    "    list_electron=[]\n",
    "    list_positron=[]\n",
    "    with open(filename,\"r\") as f:\n",
    "        line=f.readline()\n",
    "        while line:\n",
    "            if line[:9]==' cell (10':\n",
    "                f.readline()\n",
    "                index=index+1                                                                                                                    \n",
    "                for i in range(number):\n",
    "                    energy,f4,error=f.readline().split()\n",
    "                    if((index%3)==1):\n",
    "                        list_positron.append(f4)\n",
    "                    elif((index%3)==2):\n",
    "                        list_electron.append(f4)\n",
    "                    else:\n",
    "                        list_total.append(f4)\n",
    "            line=f.readline()       \n",
    "    return list_total,list_electron,list_positron"
   ]
  },
  {
   "cell_type": "code",
   "execution_count": 76,
   "metadata": {},
   "outputs": [
    {
     "name": "stdout",
     "output_type": "stream",
     "text": [
      "[['0.00000E+00' '0.00000E+00' '0.00000E+00' ... '0.00000E+00'\n",
      "  '0.00000E+00' '0.00000E+00']\n",
      " ['7.87389E-07' '8.76579E-07' '9.23749E-07' ... '8.69637E-07'\n",
      "  '7.68935E-07' '5.47370E-07']\n",
      " ['1.55507E-06' '1.75322E-06' '1.85886E-06' ... '1.74720E-06'\n",
      "  '1.54119E-06' '1.08396E-06']\n",
      " ...\n",
      " ['0.00000E+00' '0.00000E+00' '0.00000E+00' ... '0.00000E+00'\n",
      "  '0.00000E+00' '0.00000E+00']\n",
      " ['0.00000E+00' '0.00000E+00' '0.00000E+00' ... '0.00000E+00'\n",
      "  '0.00000E+00' '0.00000E+00']\n",
      " ['4.43665E-07' '9.81851E-07' '7.67542E-07' ... '3.27221E-07'\n",
      "  '1.97381E-06' '5.94740E-06']]\n"
     ]
    }
   ],
   "source": [
    "import numpy as np\n",
    "output=open(\"electron.txt\",'w')\n",
    "filename=\"outy\"\n",
    "number = 1001\n",
    "total,electron,positron=file_flux(filename,number)\n",
    "listdata_total= np.reshape(total,(15,number)).T\n",
    "listdata_electron=np.reshape(electron,(15,number)).T\n",
    "listdata_positron=np.reshape(positron,(15,number)).T\n",
    "for i in range(number):\n",
    "    for j in range(15):\n",
    "        output.write(listdata_electron[i][j]+' ')\n",
    "        output.write('\\t')\n",
    "    output.write('\\n')\n",
    "output.close()\n",
    "print(listdata_total)\n",
    "\n"
   ]
  },
  {
   "cell_type": "code",
   "execution_count": null,
   "metadata": {},
   "outputs": [],
   "source": []
  },
  {
   "cell_type": "code",
   "execution_count": null,
   "metadata": {},
   "outputs": [],
   "source": []
  },
  {
   "cell_type": "code",
   "execution_count": 24,
   "metadata": {},
   "outputs": [],
   "source": [
    "import numpy as np\n",
    "list1=[]\n",
    "\n",
    "def f(n):\n",
    "    global list1\n",
    "    for i in range(n):\n",
    "        list1.append(i)\n",
    "        \n",
    "f(2)\n",
    "f(4)\n",
    "list2=np.reshape(list1,(2,3))\n",
    "np.savetxt(\"test.txt\",list2)"
   ]
  },
  {
   "cell_type": "code",
   "execution_count": 34,
   "metadata": {},
   "outputs": [
    {
     "data": {
      "text/plain": [
       "1"
      ]
     },
     "execution_count": 34,
     "metadata": {},
     "output_type": "execute_result"
    }
   ],
   "source": [
    "4%3"
   ]
  },
  {
   "cell_type": "code",
   "execution_count": null,
   "metadata": {},
   "outputs": [],
   "source": []
  },
  {
   "cell_type": "markdown",
   "metadata": {},
   "source": [
    "# 3.MCCM算法的Fortran程序部分"
   ]
  },
  {
   "cell_type": "markdown",
   "metadata": {},
   "source": [
    "### 计算光子--->电子---->PKA的能量转换关系"
   ]
  },
  {
   "cell_type": "markdown",
   "metadata": {},
   "source": [
    "* <font size=4 color=blue>康普顿效应</font>"
   ]
  },
  {
   "cell_type": "code",
   "execution_count": 4,
   "metadata": {},
   "outputs": [
    {
     "name": "stdin",
     "output_type": "stream",
     "text": [
      "Please input the gamma energy: 1.25\n"
     ]
    },
    {
     "data": {
      "text/plain": [
       "<Figure size 640x480 with 1 Axes>"
      ]
     },
     "metadata": {},
     "output_type": "display_data"
    }
   ],
   "source": [
    "## Compton scatter condition\n",
    "import numpy as np\n",
    "import matplotlib.pylab as plt\n",
    "gamma_energy = input(\"Please input the gamma energy:\")\n",
    "gamma_energy = float(gamma_energy)\n",
    "# Ee0 = 0.511  #electron mass energy: 0.511MeV\n",
    "theta = np.linspace(0,np.pi,100)\n",
    "cos_theta = np.cos(theta)\n",
    "\n",
    "E_electron = gamma_energy*gamma_energy*(1-cos_theta)/(Ee0+gamma_energy*(1-cos_theta))\n",
    "\n",
    "E_electron_max = gamma_energy/(1+Ee0/(2*gamma_energy))\n",
    "\n",
    "plt.plot(theta,E_electron,color='red',linewidth=2,linestyle='--')\n",
    "plt.grid()\n",
    "plt.show()\n",
    "\n",
    "\n"
   ]
  },
  {
   "cell_type": "markdown",
   "metadata": {},
   "source": [
    "* <font size=4 color=blue>电子辐照损伤中的能量传递</font>"
   ]
  },
  {
   "cell_type": "markdown",
   "metadata": {},
   "source": [
    "formula 1: $E^2 = (pc)^2+(m_0c^2)^2$\n",
    "\n",
    "formula 2: $E_k = mc^2-m_0c^2$\n",
    "\n",
    "formula 4: $E = mc^2$\n",
    "\n",
    "formula 5: $m = \\frac{m_0}{\\sqrt(1-(\\frac{v}{c})^2)} $"
   ]
  },
  {
   "cell_type": "code",
   "execution_count": 8,
   "metadata": {},
   "outputs": [
    {
     "name": "stdout",
     "output_type": "stream",
     "text": [
      "283202687.3538823\n"
     ]
    }
   ],
   "source": [
    "# relativic electron velocity value\n",
    "def vector(Ee0,E_electron):\n",
    "    c = 3*10**8\n",
    "    kactor = ((E_kelectron+Ee0)**2-(Ee0)**2)/(Ee0**2)\n",
    "    vec = np.sqrt(kactor/(1+kactor))*c\n",
    "    return vec\n",
    "\n",
    "# E_kelectron = E_electron_max\n",
    "# vec1 = vector(Ee0,E_kelectron)\n",
    "# print(vec1)\n",
    "    "
   ]
  },
  {
   "cell_type": "code",
   "execution_count": 17,
   "metadata": {},
   "outputs": [
    {
     "data": {
      "image/png": "[encoded data removed]",
      "text/plain": [
       "<Figure size 432x288 with 1 Axes>"
      ]
     },
     "metadata": {
      "needs_background": "light"
     },
     "output_type": "display_data"
    },
    {
     "name": "stdout",
     "output_type": "stream",
     "text": [
      "44698612.49999999\n",
      "[-1853.84143935537, 831.841439355369]\n",
      "831.8414393553692\n"
     ]
    }
   ],
   "source": [
    "# Basic parameters\n",
    "from sympy import *\n",
    "# Em = symbols('Em')\n",
    "def Eaverage(Ed,alpha,beta,Em):\n",
    "    E_ave = Em*(np.log(Em/Ed)-beta*beta*(1-Ed/Em)+np.pi*alpha*beta*(2*(1-np.sqrt(Ed/Em)-(1-Ed/Em))))/(Ed/Em-1-beta*beta*np.log(Em/Ed)+np.pi*alpha*beta*(2*(np.sqrt(Em/Ed)-1)-np.log(Em/Ed)))\n",
    "    return E_ave\n",
    "\n",
    "Z = 22\n",
    "M = 47.87\n",
    "Ed = 0.069\n",
    "alpha = Z/137\n",
    "C = 3*10**8\n",
    "mc = 1.66*10**(-27)\n",
    "q = 1.6*10**(-16)\n",
    "Ee0 = 511\n",
    "EM0 = M*mc*C*C/q\n",
    "E_energy,E_pkaenergy = [],[]\n",
    "for i in range(1000):\n",
    "    E_electron = 10*(i+1)\n",
    "    vec0 = vector(Ee0,E_electron)\n",
    "    beta = vec0/C\n",
    "    Em = 2*E_electron*(E_electron+2*511)/EM0\n",
    "    E_ave = Eaverage(Ed,alpha,beta,Em)\n",
    "    E_energy.append(E_electron)\n",
    "    E_pkaenergy.append(E_ave)\n",
    "    \n",
    "plt.plot(E_energy,E_pkaenergy)\n",
    "plt.show()\n",
    "\n",
    "    \n",
    "# solution = Em*(np.log(Em/Ed)-beta*beta*(1-Ed/Em)+np.pi*alpha*beta*(2*(1-np.sqrt(Ed/Em)-(1-Ed/Em))))/(Ed/Em-1-beta)\n",
    "\n",
    "# E_kelectron = E_electron_max\n",
    "# vec0 = vector(Ee0,E_kelectron)\n",
    "# beta = vec0/C\n",
    "# Em = 19*np.exp(2-alpha*np.pi)*10**(-3)\n",
    "print(EM0)\n",
    "print(solve(2*Ee_energy*Ee_energy+4*511*Ee_energy-Ed*EM0,Ee_energy))\n",
    "Ecut = np.sqrt(511*511+EM0*Ed/2)-511\n",
    "\n",
    "\n",
    "print(Ecut)\n"
   ]
  },
  {
   "cell_type": "code",
   "execution_count": null,
   "metadata": {},
   "outputs": [],
   "source": []
  },
  {
   "cell_type": "code",
   "execution_count": null,
   "metadata": {},
   "outputs": [],
   "source": []
  },
  {
   "cell_type": "code",
   "execution_count": null,
   "metadata": {},
   "outputs": [],
   "source": []
  },
  {
   "cell_type": "markdown",
   "metadata": {},
   "source": [
    "<font size=\"5\" color=blue>Fortran程序和Python程序交互，利用f2py工具</font>"
   ]
  },
  {
   "cell_type": "markdown",
   "metadata": {},
   "source": [
    "<font size=\"4.5\" color=green>计算由电子传递给初级离位原子(PKA)造成的缺陷数目</font>"
   ]
  },
  {
   "cell_type": "code",
   "execution_count": 59,
   "metadata": {},
   "outputs": [
    {
     "data": {
      "text/plain": [
       "\u001b[0msubroutine\u001b[0m \u001b[0mpka_number\u001b[0m\u001b[1;33m(\u001b[0m\u001b[0mZ\u001b[0m\u001b[1;33m,\u001b[0m\u001b[0mM\u001b[0m\u001b[1;33m,\u001b[0m\u001b[0mnumber\u001b[0m\u001b[1;33m)\u001b[0m\u001b[1;33m\n",
       "\u001b[0m        \u001b[0mimplicit\u001b[0m \u001b[0mnone\u001b[0m\u001b[1;33m\n",
       "\u001b[0m        \u001b[0mreal\u001b[0m\u001b[1;33m,\u001b[0m\u001b[0mparameter\u001b[0m \u001b[1;33m:\u001b[0m\u001b[1;33m:\u001b[0m\u001b[0mme\u001b[0m\u001b[1;33m=\u001b[0m\u001b[1;36m9.11\u001b[0m\u001b[0md\u001b[0m\u001b[1;33m-\u001b[0m\u001b[1;36m31\u001b[0m\u001b[1;33m,\u001b[0m\u001b[0mq\u001b[0m\u001b[1;33m=\u001b[0m\u001b[1;36m1.6\u001b[0m\u001b[0md\u001b[0m\u001b[1;33m-\u001b[0m\u001b[1;36m16\u001b[0m\u001b[1;33m,\u001b[0m\u001b[1;33m&\u001b[0m\u001b[1;33m\n",
       "\u001b[0m                         \u001b[0mmc\u001b[0m\u001b[1;33m=\u001b[0m\u001b[1;36m1.99\u001b[0m\u001b[0md\u001b[0m\u001b[1;33m-\u001b[0m\u001b[1;36m26\u001b[0m\u001b[1;33m,\u001b[0m\u001b[0mr0\u001b[0m\u001b[1;33m=\u001b[0m\u001b[1;36m2.8\u001b[0m\u001b[0md\u001b[0m\u001b[1;33m-\u001b[0m\u001b[1;36m15\u001b[0m\u001b[1;33m,\u001b[0m\u001b[0mEd\u001b[0m\u001b[1;33m=\u001b[0m\u001b[1;36m0.073\u001b[0m\u001b[1;33m,\u001b[0m\u001b[0mT1\u001b[0m\u001b[1;33m=\u001b[0m\u001b[1;36m0.5\u001b[0m\u001b[1;33m\n",
       "\u001b[0m        \u001b[0mreal\u001b[0m \u001b[1;33m:\u001b[0m\u001b[1;33m:\u001b[0m \u001b[0mZ\u001b[0m\u001b[1;33m,\u001b[0m\u001b[0mM\u001b[0m\u001b[1;33m\n",
       "\u001b[0m        \u001b[0mreal\u001b[0m \u001b[1;33m:\u001b[0m\u001b[1;33m:\u001b[0m \u001b[0mnumber\u001b[0m\u001b[1;33m\n",
       "\u001b[0m        \u001b[0;31m!\u001b[0m\u001b[0mf2py\u001b[0m \u001b[0mintent\u001b[0m\u001b[1;33m(\u001b[0m\u001b[1;32min\u001b[0m\u001b[1;33m)\u001b[0m \u001b[0mZ\u001b[0m\u001b[1;33m,\u001b[0m\u001b[0mM\u001b[0m\u001b[1;33m\n",
       "\u001b[0m        \u001b[0;31m!\u001b[0m\u001b[0mf2py\u001b[0m \u001b[0mintent\u001b[0m\u001b[1;33m(\u001b[0m\u001b[0mout\u001b[0m\u001b[1;33m)\u001b[0m \u001b[0mnumber\u001b[0m\u001b[1;33m\n",
       "\u001b[0m        \u001b[1;33m\n",
       "\u001b[0m\u001b[0;31m!\u001b[0m\u001b[0;31m!\u001b[0m\u001b[0;31m!\u001b[0m\u001b[0;31m!\u001b[0m\u001b[0;31m!\u001b[0m\u001b[0;31m!\u001b[0m\u001b[0;31m!\u001b[0m\u001b[0;31m!\u001b[0m\u001b[0;31m!\u001b[0m\u001b[0;31m!\u001b[0m\u001b[0;31m!\u001b[0m\u001b[0;31m!\u001b[0m\u001b[0;31m!\u001b[0m\u001b[0;31m!\u001b[0m\u001b[0;31m!\u001b[0m\u001b[0;31m!\u001b[0m\u001b[0;31m!\u001b[0m\u001b[0;31m!\u001b[0m\u001b[0;31m!\u001b[0m\u001b[0;31m!\u001b[0m\u001b[0;31m!\u001b[0m\u001b[0;31m!\u001b[0m\u001b[0;31m!\u001b[0m\u001b[0;31m!\u001b[0m\u001b[0;31m!\u001b[0m\u001b[0;31m!\u001b[0m\u001b[0;31m!\u001b[0m\u001b[0;31m!\u001b[0m\u001b[0;31m!\u001b[0m\u001b[0;31m!\u001b[0m\u001b[0;31m!\u001b[0m\u001b[0;31m!\u001b[0m\u001b[0;31m!\u001b[0m\u001b[0;31m!\u001b[0m\u001b[0;31m!\u001b[0m\u001b[0;31m!\u001b[0m\u001b[0;31m!\u001b[0m\u001b[0;31m!\u001b[0m\u001b[0;31m!\u001b[0m\u001b[0;31m!\u001b[0m\u001b[0;31m!\u001b[0m\u001b[0;31m!\u001b[0m\u001b[0;31m!\u001b[0m\u001b[0;31m!\u001b[0m\u001b[0;31m!\u001b[0m\u001b[0;31m!\u001b[0m\u001b[0;31m!\u001b[0m\u001b[1;33m\n",
       "\u001b[0m\u001b[0;31m!\u001b[0m\u001b[0mCalculation\u001b[0m \u001b[0mthe\u001b[0m \u001b[0mPKA\u001b[0m \u001b[0mnumbers\u001b[0m \u001b[0mof\u001b[0m \u001b[0mdefects\u001b[0m\u001b[1;33m\n",
       "\u001b[0m\u001b[0;31m!\u001b[0m\u001b[1;33m\n",
       "\u001b[0m\u001b[0;31m!\u001b[0m\u001b[0;31m!\u001b[0m\u001b[0;31m!\u001b[0m\u001b[0;31m!\u001b[0m\u001b[0;31m!\u001b[0m\u001b[0;31m!\u001b[0m\u001b[0;31m!\u001b[0m\u001b[0;31m!\u001b[0m\u001b[0;31m!\u001b[0m\u001b[0;31m!\u001b[0m\u001b[0;31m!\u001b[0m\u001b[0;31m!\u001b[0m\u001b[0;31m!\u001b[0m\u001b[0;31m!\u001b[0m\u001b[0;31m!\u001b[0m\u001b[0;31m!\u001b[0m\u001b[0;31m!\u001b[0m\u001b[0;31m!\u001b[0m\u001b[0;31m!\u001b[0m\u001b[0;31m!\u001b[0m\u001b[0;31m!\u001b[0m\u001b[0;31m!\u001b[0m\u001b[0;31m!\u001b[0m\u001b[0;31m!\u001b[0m\u001b[0;31m!\u001b[0m\u001b[0;31m!\u001b[0m\u001b[0;31m!\u001b[0m\u001b[0;31m!\u001b[0m\u001b[0;31m!\u001b[0m\u001b[0;31m!\u001b[0m\u001b[0;31m!\u001b[0m\u001b[0;31m!\u001b[0m\u001b[0;31m!\u001b[0m\u001b[0;31m!\u001b[0m\u001b[0;31m!\u001b[0m\u001b[0;31m!\u001b[0m\u001b[0;31m!\u001b[0m\u001b[0;31m!\u001b[0m\u001b[0;31m!\u001b[0m\u001b[0;31m!\u001b[0m\u001b[0;31m!\u001b[0m\u001b[0;31m!\u001b[0m\u001b[0;31m!\u001b[0m\u001b[0;31m!\u001b[0m\u001b[0;31m!\u001b[0m\u001b[0;31m!\u001b[0m\u001b[1;33m\n",
       "\u001b[0m    \u001b[1;32mif\u001b[0m\u001b[1;33m(\u001b[0m\u001b[0mT1\u001b[0m\u001b[1;33m<=\u001b[0m\u001b[0mEd\u001b[0m\u001b[1;33m)\u001b[0m\u001b[0mthen\u001b[0m\u001b[1;33m\n",
       "\u001b[0m        \u001b[0mnumber\u001b[0m\u001b[1;33m=\u001b[0m\u001b[1;36m0\u001b[0m\u001b[1;33m\n",
       "\u001b[0m    \u001b[1;32melse\u001b[0m \u001b[1;32mif\u001b[0m\u001b[1;33m(\u001b[0m\u001b[0mT1\u001b[0m\u001b[1;33m>\u001b[0m\u001b[0mEd\u001b[0m\u001b[1;33m.\u001b[0m\u001b[1;32mand\u001b[0m\u001b[1;33m.\u001b[0m\u001b[0mT1\u001b[0m\u001b[1;33m<=\u001b[0m\u001b[1;36m2\u001b[0m\u001b[1;33m*\u001b[0m\u001b[0mEd\u001b[0m\u001b[1;33m/\u001b[0m\u001b[1;36m0.8\u001b[0m\u001b[1;33m)\u001b[0m\u001b[0mthen\u001b[0m\u001b[1;33m\n",
       "\u001b[0m        \u001b[0mnumber\u001b[0m\u001b[1;33m=\u001b[0m\u001b[1;36m1\u001b[0m\u001b[1;33m\n",
       "\u001b[0m    \u001b[1;32melse\u001b[0m\u001b[1;33m\n",
       "\u001b[0m        \u001b[0mnumber\u001b[0m\u001b[1;33m=\u001b[0m\u001b[1;36m0.8\u001b[0m\u001b[1;33m*\u001b[0m\u001b[0mT1\u001b[0m\u001b[1;33m/\u001b[0m\u001b[1;33m(\u001b[0m\u001b[1;36m2\u001b[0m\u001b[1;33m*\u001b[0m\u001b[0mEd\u001b[0m\u001b[1;33m)\u001b[0m\u001b[1;33m\n",
       "\u001b[0m    \u001b[0mend\u001b[0m \u001b[1;32mif\u001b[0m\u001b[1;33m\n",
       "\u001b[0m\u001b[0mend\u001b[0m \u001b[0msubroutine\u001b[0m\u001b[1;33m\u001b[0m\u001b[1;33m\u001b[0m\u001b[0m\n"
      ]
     },
     "metadata": {},
     "output_type": "display_data"
    }
   ],
   "source": [
    "%pycat pka_number.f90"
   ]
  },
  {
   "cell_type": "markdown",
   "metadata": {},
   "source": [
    "<font size=\"5\" color=red> Fortran 和 Python文件实现的二种方式</font>\n",
    "\n",
    "- 利用f2py + Visual Studio 2017(Intel Fortran)实现(mccm_pka.bat文件）\n",
    "\n",
    "- 利用numpy.distutils包进行，命令：!python setup_example.py build_ext --inplace"
   ]
  },
  {
   "cell_type": "code",
   "execution_count": 60,
   "metadata": {},
   "outputs": [
    {
     "name": "stdout",
     "output_type": "stream",
     "text": [
      "\n",
      "F:\\MCwork\\MCCM\\scripts\\filesworks>set \"ifor1=C:\\Program Files (x86)\\IntelSWTools\\compilers_and_libraries_2018.5.274\" \n",
      "\n",
      "F:\\MCwork\\MCCM\\scripts\\filesworks>set \"ifor2=C:\\Program Files (x86)\\IntelSWTools\\compilers_and_libraries_2018.3.210\" \n",
      "\n",
      "F:\\MCwork\\MCCM\\scripts\\filesworks>if exist \"C:\\Program Files (x86)\\IntelSWTools\\compilers_and_libraries_2018.5.274\" (set \"ifor=C:\\Program Files (x86)\\IntelSWTools\\compilers_and_libraries_2018.5.274\" ) \n",
      "\n",
      "F:\\MCwork\\MCCM\\scripts\\filesworks>if exist \"C:\\Program Files (x86)\\IntelSWTools\\compilers_and_libraries_2018.3.210\" (set \"ifor=C:\\Program Files (x86)\\IntelSWTools\\compilers_and_libraries_2018.3.210\" ) \n",
      "\n",
      "F:\\MCwork\\MCCM\\scripts\\filesworks>set \"PATH=C:\\Program Files (x86)\\IntelSWTools\\compilers_and_libraries_2018.5.274\\windows\\bin;C:\\Program Files (x86)\\IntelSWTools\\compilers_and_libraries_2018.5.274\\windows\\mpi\\intel64\\bin;C:\\Program Files (x86)\\Common Files\\Intel\\Shared Libraries\\redist\\intel64_win\\mpirt;C:\\Program Files (x86)\\Common Files\\Intel\\Shared Libraries\\redist\\ia32_win\\mpirt;C:\\Program Files (x86)\\Common Files\\Intel\\Shared Libraries\\redist\\ia32_win\\compiler;E:\\Sofware\\CodeSofware\\Python\\python3\\Scripts\\;E:\\Sofware\\CodeSofware\\Python\\python3\\;D:\\LANL\\mpich\\Bin\\;C:\\ProgramData\\Oracle\\Java\\javapath;C:\\Program Files (x86)\\Common Files\\Intel\\Shared Libraries\\redist\\intel64_win\\compiler;C:\\WINDOWS\\system32;C:\\WINDOWS;C:\\WINDOWS\\System32\\Wbem;C:\\WINDOWS\\System32\\WindowsPowerShell\\v1.0\\;C:\\Program Files (x86)\\Wolfram Research\\WolframScript\\;D:\\LANL\\MCNP5;C:\\Program Files\\dotnet\\;E:\\Sofware\\CodeSofware\\Matlab\\matlab2018\\runtime\\win64;E:\\Sofware\\CodeSofware\\Matlab\\matlab2018\\bin;E:\\Sofware\\CodeSofware\\Codepicture\\Graphviz\\bin;C:\\Strawberry\\c\\bin;C:\\Strawberry\\perl\\site\\bin;C:\\Strawberry\\perl\\bin;E:\\Sofware\\CodeSofware\\Fortran\\VS2017\\Community\\VC\\Tools\\MSVC\\14.14.26428\\bin\\Hostx64\\x64;E:\\Sofware\\Developsofware\\Git\\Git\\cmd;F:\\Codeworks\\python\\julia\\julia1.0\\Julia-1.0.0\\bin;F:\\MDworks\\Clusterwork\\ABCluster-2.0-Windows\\ABCluster-Windows;C:\\WINDOWS\\System32\\OpenSSH\\;C:\\Program Files\\Intel\\WiFi\\bin\\;C:\\Program Files\\Common Files\\Intel\\WirelessCommon\\;C:\\users\\edj17\\Appdata\\Roaming\\Python\\Python36\\site-packages;C:\\Program Files\\Java\\jdk1.8.0_144\\bin;C:\\Program Files\\Microsoft SQL Server\\130\\Tools\\Binn\\;C:\\MinGW\\bin;E:\\Sofware\\windows\\wget-1.11.4-1-bin\\bin;F:\\Codeworks\\latex\\Ctex\\UserData\\miktex\\bin;F:\\Codeworks\\latex\\Ctex\\MiKTeX2\\miktex\\bin\\x64\\;F:\\Codeworks\\latex\\Ctex\\MiKTeX\\miktex\\bin;F:\\Codeworks\\latex\\Ctex\\CTeX;F:\\Codeworks\\latex\\Ctex\\CTeX\\Packages\\ctex\\bin;F:\\Codeworks\\latex\\Ctex\\CTeX;F:\\Codeworks\\latex\\Ctex\\CTeX\\Packages\\cct\\bin;F:\\Codeworks\\latex\\Ctex\\CTeX;F:\\Codeworks\\latex\\Ctex\\CTeX\\Packages\\ty\\bin;F:\\Codeworks\\latex\\Ctex\\Ghostscript\\gs9.18\\bin;F:\\Codeworks\\latex\\Ctex\\GSview\\gsview;F:\\Codeworks\\latex\\Ctex\\WinEdt;E:\\Sofware\\CodeSofware\\Python\\Anaconda3;E:\\Sofware\\CodeSofware\\Python\\Anaconda3\\Library\\plugins;E:\\Sofware\\CodeSofware\\Python\\Anaconda3;E:\\Sofware\\CodeSofware\\Python\\Anaconda3\\Library\\mingw-w64\\bin;E:\\Sofware\\CodeSofware\\Python\\Anaconda3\\Library\\usr\\bin;E:\\Sofware\\CodeSofware\\Python\\Anaconda3\\Library\\bin;E:\\Sofware\\CodeSofware\\Python\\Anaconda3\\Scripts;E:\\Sofware\\CodeSofware\\Python\\python3\\Scripts\\;E:\\Sofware\\CodeSofware\\Python\\python3\\;C:\\Users\\edj17\\AppData\\Local\\Microsoft\\WindowsApps\" \n",
      "\n",
      "F:\\MCwork\\MCCM\\scripts\\filesworks>ifortvars.bat intel64 vs2017   && f2py -m --overwrite-signature pka_number -h pka_number.pyf  pka_number.f90   && f2py -c --fcompiler=intelvem  pka_number.pyf  pka_number.f90 \n",
      "\n",
      "Intel(R) MPI Library 2018 Update 4 for Windows* Target Build Environment for Intel(R) 64 applications\n",
      "Copyright 2007-2018 Intel Corporation.\n",
      "\n",
      "Copyright (C) 1985-2018 Intel Corporation. All rights reserved.\n",
      "Intel(R) Compiler 18.0 Update 5 (package 274)\n",
      " \n",
      "**********************************************************************\n",
      "** Visual Studio 2017 Developer Command Prompt v15.9.0\n",
      "** Copyright (c) 2017 Microsoft Corporation\n",
      "**********************************************************************\n",
      "[vcvarsall.bat] Environment initialized for: 'x64'\n",
      "Reading fortran codes...\n",
      "\tReading file 'pka_number.f90' (format:free)\n",
      "Post-processing...\n",
      "\tBlock: pka_number\n",
      "\t\t\tBlock: pka_number\n",
      "In: :pka_number:pka_number.f90:pka_number\n",
      "get_parameters: got \"invalid syntax (<string>, line 1)\" on '9.11d-31'\n",
      "In: :pka_number:pka_number.f90:pka_number\n",
      "get_parameters: got \"invalid syntax (<string>, line 1)\" on '1.6d-16'\n",
      "In: :pka_number:pka_number.f90:pka_number\n",
      "get_parameters: got \"invalid syntax (<string>, line 1)\" on '1.99d-26'\n",
      "In: :pka_number:pka_number.f90:pka_number\n",
      "get_parameters: got \"invalid syntax (<string>, line 1)\" on '2.8d-15'\n",
      "Post-processing (stage 2)...\n",
      "Saving signatures to file \".\\pka_number.pyf\"\n",
      "running build\n",
      "running config_cc\n",
      "unifing config_cc, config, build_clib, build_ext, build commands --compiler options\n",
      "running config_fc\n",
      "unifing config_fc, config, build_clib, build_ext, build commands --fcompiler options\n",
      "running build_src\n",
      "build_src\n",
      "building extension \"pka_number\" sources\n",
      "creating C:\\Users\\edj17\\AppData\\Local\\Temp\\tmp89_0v6gc\\src.win-amd64-3.7\n",
      "f2py options: []\n",
      "f2py: pka_number.pyf\n",
      "Reading fortran codes...\n",
      "\tReading file 'pka_number.pyf' (format:free)\n",
      "Post-processing...\n",
      "\tBlock: pka_number\n",
      "\t\t\tBlock: pka_number\n",
      "Post-processing (stage 2)...\n",
      "Building modules...\n",
      "\tBuilding module \"pka_number\"...\n",
      "\t\tConstructing wrapper function \"pka_number\"...\n",
      "\t\t  number = pka_number(z,m)\n",
      "\tWrote C/API module \"pka_number\" to file \"C:\\Users\\edj17\\AppData\\Local\\Temp\\tmp89_0v6gc\\src.win-amd64-3.7\\pka_numbermodule.c\"\n",
      "  adding 'C:\\Users\\edj17\\AppData\\Local\\Temp\\tmp89_0v6gc\\src.win-amd64-3.7\\fortranobject.c' to sources.\n",
      "  adding 'C:\\Users\\edj17\\AppData\\Local\\Temp\\tmp89_0v6gc\\src.win-amd64-3.7' to include_dirs.\n",
      "copying e:\\sofware\\codesofware\\python\\python3\\lib\\site-packages\\numpy\\f2py\\src\\fortranobject.c -> C:\\Users\\edj17\\AppData\\Local\\Temp\\tmp89_0v6gc\\src.win-amd64-3.7\n",
      "copying e:\\sofware\\codesofware\\python\\python3\\lib\\site-packages\\numpy\\f2py\\src\\fortranobject.h -> C:\\Users\\edj17\\AppData\\Local\\Temp\\tmp89_0v6gc\\src.win-amd64-3.7\n",
      "build_src: building npy-pkg config files\n",
      "running build_ext\n",
      "No module named 'numpy.distutils._msvccompiler' in numpy.distutils; trying from distutils\n",
      "customize MSVCCompiler\n",
      "customize MSVCCompiler using build_ext\n",
      "customize IntelEM64VisualFCompiler\n",
      "Found executable C:\\Program Files (x86)\\IntelSWTools\\compilers_and_libraries_2018.5.274\\windows\\bin\\intel64\\ifort.exe\n",
      "customize IntelEM64VisualFCompiler using build_ext\n",
      "building 'pka_number' extension\n",
      "compiling C sources\n",
      "creating C:\\Users\\edj17\\AppData\\Local\\Temp\\tmp89_0v6gc\\Release\\Users\n",
      "creating C:\\Users\\edj17\\AppData\\Local\\Temp\\tmp89_0v6gc\\Release\\Users\\edj17\n",
      "creating C:\\Users\\edj17\\AppData\\Local\\Temp\\tmp89_0v6gc\\Release\\Users\\edj17\\AppData\n",
      "creating C:\\Users\\edj17\\AppData\\Local\\Temp\\tmp89_0v6gc\\Release\\Users\\edj17\\AppData\\Local\n",
      "creating C:\\Users\\edj17\\AppData\\Local\\Temp\\tmp89_0v6gc\\Release\\Users\\edj17\\AppData\\Local\\Temp\n",
      "creating C:\\Users\\edj17\\AppData\\Local\\Temp\\tmp89_0v6gc\\Release\\Users\\edj17\\AppData\\Local\\Temp\\tmp89_0v6gc\n",
      "creating C:\\Users\\edj17\\AppData\\Local\\Temp\\tmp89_0v6gc\\Release\\Users\\edj17\\AppData\\Local\\Temp\\tmp89_0v6gc\\src.win-amd64-3.7\n",
      "E:\\Sofware\\CodeSofware\\Fortran\\VS2017\\VC\\Tools\\MSVC\\14.16.27023\\bin\\HostX86\\x64\\cl.exe /c /nologo /Ox /W3 /GL /DNDEBUG /MD -IC:\\Users\\edj17\\AppData\\Local\\Temp\\tmp89_0v6gc\\src.win-amd64-3.7 -Ie:\\sofware\\codesofware\\python\\python3\\lib\\site-packages\\numpy\\core\\include -Ie:\\sofware\\codesofware\\python\\python3\\include -Ie:\\sofware\\codesofware\\python\\python3\\include -IE:\\Sofware\\CodeSofware\\Fortran\\VS2017\\VC\\Tools\\MSVC\\14.16.27023\\ATLMFC\\include -IE:\\Sofware\\CodeSofware\\Fortran\\VS2017\\VC\\Tools\\MSVC\\14.16.27023\\include -I\"C:\\Program Files (x86)\\Windows Kits\\NETFXSDK\\4.6.1\\include\\um\" -I\"E:\\Windows Kits\\10\\include\\10.0.17134.0\\ucrt\" -I\"E:\\Windows Kits\\10\\include\\10.0.17134.0\\shared\" -I\"E:\\Windows Kits\\10\\include\\10.0.17134.0\\um\" -I\"E:\\Windows Kits\\10\\include\\10.0.17134.0\\winrt\" -I\"E:\\Windows Kits\\10\\include\\10.0.17134.0\\cppwinrt\" -I\"C:\\Program Files (x86)\\IntelSWTools\\compilers_and_libraries_2018.5.274\\windows\\compiler\\include\" -I\"C:\\Program Files (x86)\\IntelSWTools\\compilers_and_libraries_2018.5.274\\windows\\compiler\\include\\intel64\" -IE:\\Sofware\\CodeSofware\\Fortran\\VS2017\\VC\\Tools\\MSVC\\14.16.27023\\ATLMFC\\include -IE:\\Sofware\\CodeSofware\\Fortran\\VS2017\\VC\\Tools\\MSVC\\14.16.27023\\include -I\"C:\\Program Files (x86)\\Windows Kits\\NETFXSDK\\4.6.1\\include\\um\" -I\"E:\\Windows Kits\\10\\include\\10.0.17134.0\\ucrt\" -I\"E:\\Windows Kits\\10\\include\\10.0.17134.0\\shared\" -I\"E:\\Windows Kits\\10\\include\\10.0.17134.0\\um\" -I\"E:\\Windows Kits\\10\\include\\10.0.17134.0\\winrt\" -I\"E:\\Windows Kits\\10\\include\\10.0.17134.0\\cppwinrt\" -I\"C:\\Program Files (x86)\\IntelSWTools\\compilers_and_libraries_2018.5.274\\windows\\mpi\\intel64\\bin\\..\\..\\intel64\\include\" -I\"C:\\Program Files (x86)\\IntelSWTools\\compilers_and_libraries_2018.5.274\\windows\\ipp\\include\" -I\"C:\\Program Files (x86)\\IntelSWTools\\compilers_and_libraries_2018.5.274\\windows\\mkl\\include\" -I\"C:\\Program Files (x86)\\IntelSWTools\\compilers_and_libraries_2018.5.274\\windows\\pstl\\bin\\..\\include\" -I\"C:\\Program Files (x86)\\IntelSWTools\\compilers_and_libraries_2018.5.274\\windows\\tbb\\bin\\..\\include\" -I\"C:\\Program Files (x86)\\IntelSWTools\\compilers_and_libraries_2018.5.274\\windows\\tbb\\bin\\..\\include\" -I\"C:\\Program Files (x86)\\IntelSWTools\\compilers_and_libraries_2018.5.274\\windows\\daal\\include\" /TcC:\\Users\\edj17\\AppData\\Local\\Temp\\tmp89_0v6gc\\src.win-amd64-3.7\\pka_numbermodule.c /FoC:\\Users\\edj17\\AppData\\Local\\Temp\\tmp89_0v6gc\\Release\\Users\\edj17\\AppData\\Local\\Temp\\tmp89_0v6gc\\src.win-amd64-3.7\\pka_numbermodule.obj\n",
      "E:\\Sofware\\CodeSofware\\Fortran\\VS2017\\VC\\Tools\\MSVC\\14.16.27023\\bin\\HostX86\\x64\\cl.exe /c /nologo /Ox /W3 /GL /DNDEBUG /MD -IC:\\Users\\edj17\\AppData\\Local\\Temp\\tmp89_0v6gc\\src.win-amd64-3.7 -Ie:\\sofware\\codesofware\\python\\python3\\lib\\site-packages\\numpy\\core\\include -Ie:\\sofware\\codesofware\\python\\python3\\include -Ie:\\sofware\\codesofware\\python\\python3\\include -IE:\\Sofware\\CodeSofware\\Fortran\\VS2017\\VC\\Tools\\MSVC\\14.16.27023\\ATLMFC\\include -IE:\\Sofware\\CodeSofware\\Fortran\\VS2017\\VC\\Tools\\MSVC\\14.16.27023\\include -I\"C:\\Program Files (x86)\\Windows Kits\\NETFXSDK\\4.6.1\\include\\um\" -I\"E:\\Windows Kits\\10\\include\\10.0.17134.0\\ucrt\" -I\"E:\\Windows Kits\\10\\include\\10.0.17134.0\\shared\" -I\"E:\\Windows Kits\\10\\include\\10.0.17134.0\\um\" -I\"E:\\Windows Kits\\10\\include\\10.0.17134.0\\winrt\" -I\"E:\\Windows Kits\\10\\include\\10.0.17134.0\\cppwinrt\" -I\"C:\\Program Files (x86)\\IntelSWTools\\compilers_and_libraries_2018.5.274\\windows\\compiler\\include\" -I\"C:\\Program Files (x86)\\IntelSWTools\\compilers_and_libraries_2018.5.274\\windows\\compiler\\include\\intel64\" -IE:\\Sofware\\CodeSofware\\Fortran\\VS2017\\VC\\Tools\\MSVC\\14.16.27023\\ATLMFC\\include -IE:\\Sofware\\CodeSofware\\Fortran\\VS2017\\VC\\Tools\\MSVC\\14.16.27023\\include -I\"C:\\Program Files (x86)\\Windows Kits\\NETFXSDK\\4.6.1\\include\\um\" -I\"E:\\Windows Kits\\10\\include\\10.0.17134.0\\ucrt\" -I\"E:\\Windows Kits\\10\\include\\10.0.17134.0\\shared\" -I\"E:\\Windows Kits\\10\\include\\10.0.17134.0\\um\" -I\"E:\\Windows Kits\\10\\include\\10.0.17134.0\\winrt\" -I\"E:\\Windows Kits\\10\\include\\10.0.17134.0\\cppwinrt\" -I\"C:\\Program Files (x86)\\IntelSWTools\\compilers_and_libraries_2018.5.274\\windows\\mpi\\intel64\\bin\\..\\..\\intel64\\include\" -I\"C:\\Program Files (x86)\\IntelSWTools\\compilers_and_libraries_2018.5.274\\windows\\ipp\\include\" -I\"C:\\Program Files (x86)\\IntelSWTools\\compilers_and_libraries_2018.5.274\\windows\\mkl\\include\" -I\"C:\\Program Files (x86)\\IntelSWTools\\compilers_and_libraries_2018.5.274\\windows\\pstl\\bin\\..\\include\" -I\"C:\\Program Files (x86)\\IntelSWTools\\compilers_and_libraries_2018.5.274\\windows\\tbb\\bin\\..\\include\" -I\"C:\\Program Files (x86)\\IntelSWTools\\compilers_and_libraries_2018.5.274\\windows\\tbb\\bin\\..\\include\" -I\"C:\\Program Files (x86)\\IntelSWTools\\compilers_and_libraries_2018.5.274\\windows\\daal\\include\" /TcC:\\Users\\edj17\\AppData\\Local\\Temp\\tmp89_0v6gc\\src.win-amd64-3.7\\fortranobject.c /FoC:\\Users\\edj17\\AppData\\Local\\Temp\\tmp89_0v6gc\\Release\\Users\\edj17\\AppData\\Local\\Temp\\tmp89_0v6gc\\src.win-amd64-3.7\\fortranobject.obj\n",
      "compiling Fortran sources\n",
      "Fortran f77 compiler: C:\\Program Files (x86)\\IntelSWTools\\compilers_and_libraries_2018.5.274\\windows\\bin\\intel64\\ifort.exe /nologo /MD /nbs /names:lowercase /assume:underscore /O1 \n",
      "Fortran f90 compiler: C:\\Program Files (x86)\\IntelSWTools\\compilers_and_libraries_2018.5.274\\windows\\bin\\intel64\\ifort.exe /nologo /MD /nbs /names:lowercase /assume:underscore /O1 \n",
      "Fortran fix compiler: C:\\Program Files (x86)\\IntelSWTools\\compilers_and_libraries_2018.5.274\\windows\\bin\\intel64\\ifort.exe /nologo /MD /nbs /names:lowercase /assume:underscore /O1 \n",
      "compile options: '-IC:\\Users\\edj17\\AppData\\Local\\Temp\\tmp89_0v6gc\\src.win-amd64-3.7 -Ie:\\sofware\\codesofware\\python\\python3\\lib\\site-packages\\numpy\\core\\include -Ie:\\sofware\\codesofware\\python\\python3\\include -Ie:\\sofware\\codesofware\\python\\python3\\include -c'\n",
      "ifort.exe:f90: pka_number.f90\n",
      "E:\\Sofware\\CodeSofware\\Fortran\\VS2017\\VC\\Tools\\MSVC\\14.16.27023\\bin\\HostX86\\x64\\link.exe /nologo /INCREMENTAL:NO /LTCG /DLL /MANIFEST:EMBED,ID=2 /MANIFESTUAC:NO /LIBPATH:e:\\sofware\\codesofware\\python\\python3\\libs /LIBPATH:e:\\sofware\\codesofware\\python\\python3\\PCbuild\\amd64 /LIBPATH:e:\\sofware\\codesofware\\python\\python3\\libs /LIBPATH:e:\\sofware\\codesofware\\python\\python3\\PCbuild\\amd64 /LIBPATH:E:\\Sofware\\CodeSofware\\Fortran\\VS2017\\VC\\Tools\\MSVC\\14.16.27023\\ATLMFC\\lib\\x64 /LIBPATH:E:\\Sofware\\CodeSofware\\Fortran\\VS2017\\VC\\Tools\\MSVC\\14.16.27023\\lib\\x64 /LIBPATH:\"C:\\Program Files (x86)\\Windows Kits\\NETFXSDK\\4.6.1\\lib\\um\\x64\" /LIBPATH:\"E:\\Windows Kits\\10\\lib\\10.0.17134.0\\ucrt\\x64\" /LIBPATH:\"E:\\Windows Kits\\10\\lib\\10.0.17134.0\\um\\x64\" /LIBPATH:\"C:\\Program Files (x86)\\IntelSWTools\\compilers_and_libraries_2018.5.274\\windows\\compiler\\lib\" /LIBPATH:\"C:\\Program Files (x86)\\IntelSWTools\\compilers_and_libraries_2018.5.274\\windows\\compiler\\lib\\intel64\" /LIBPATH:\"C:\\Program Files (x86)\\IntelSWTools\\compilers_and_libraries_2018.5.274\\windows\\compiler\\lib\\intel64_win\" /LIBPATH:E:\\Sofware\\CodeSofware\\Fortran\\VS2017\\VC\\Tools\\MSVC\\14.16.27023\\ATLMFC\\lib\\x64 /LIBPATH:E:\\Sofware\\CodeSofware\\Fortran\\VS2017\\VC\\Tools\\MSVC\\14.16.27023\\lib\\x64 /LIBPATH:\"C:\\Program Files (x86)\\Windows Kits\\NETFXSDK\\4.6.1\\lib\\um\\x64\" /LIBPATH:\"E:\\Windows Kits\\10\\lib\\10.0.17134.0\\ucrt\\x64\" /LIBPATH:\"E:\\Windows Kits\\10\\lib\\10.0.17134.0\\um\\x64\" /LIBPATH:\"C:\\Program Files (x86)\\IntelSWTools\\compilers_and_libraries_2018.5.274\\windows\\mpi\\intel64\\bin\\..\\..\\intel64\\lib\" /LIBPATH:\"C:\\Program Files (x86)\\IntelSWTools\\compilers_and_libraries_2018.5.274\\windows\\ipp\\lib\\intel64\" /LIBPATH:\"C:\\Program Files (x86)\\IntelSWTools\\compilers_and_libraries_2018.5.274\\windows\\mkl\\lib\\intel64_win\" /LIBPATH:\"C:\\Program Files (x86)\\IntelSWTools\\compilers_and_libraries_2018.5.274\\windows\\compiler\\lib\\intel64_win\" /LIBPATH:\"C:\\Program Files (x86)\\IntelSWTools\\compilers_and_libraries_2018.5.274\\windows\\tbb\\bin\\..\\lib\\intel64\\vc14\" /LIBPATH:\"C:\\Program Files (x86)\\IntelSWTools\\compilers_and_libraries_2018.5.274\\windows\\tbb\\bin\\..\\lib\\intel64\\vc14\" /LIBPATH:\"C:\\Program Files (x86)\\IntelSWTools\\compilers_and_libraries_2018.5.274\\windows\\daal\\lib\\intel64_win\" /LIBPATH:\"C:\\Program Files (x86)\\IntelSWTools\\compilers_and_libraries_2018.5.274\\windows\\tbb\\lib\\intel64_win\\vc_mt\" /EXPORT:PyInit_pka_number C:\\Users\\edj17\\AppData\\Local\\Temp\\tmp89_0v6gc\\Release\\Users\\edj17\\AppData\\Local\\Temp\\tmp89_0v6gc\\src.win-amd64-3.7\\pka_numbermodule.obj C:\\Users\\edj17\\AppData\\Local\\Temp\\tmp89_0v6gc\\Release\\Users\\edj17\\AppData\\Local\\Temp\\tmp89_0v6gc\\src.win-amd64-3.7\\fortranobject.obj C:\\Users\\edj17\\AppData\\Local\\Temp\\tmp89_0v6gc\\Release\\pka_number.o /OUT:.\\pka_number.cp37-win_amd64.pyd /IMPLIB:C:\\Users\\edj17\\AppData\\Local\\Temp\\tmp89_0v6gc\\Release\\Users\\edj17\\AppData\\Local\\Temp\\tmp89_0v6gc\\src.win-amd64-3.7\\pka_number.cp37-win_amd64.lib\n",
      "Removing build directory C:\\Users\\edj17\\AppData\\Local\\Temp\\tmp89_0v6gc\n"
     ]
    }
   ],
   "source": [
    "!mccm_pka.bat"
   ]
  },
  {
   "cell_type": "code",
   "execution_count": 62,
   "metadata": {},
   "outputs": [
    {
     "name": "stdout",
     "output_type": "stream",
     "text": [
      "running build_ext\n",
      "running build_src\n",
      "build_src\n",
      "building extension \"pka_number\" sources\n",
      "f2py options: []\n",
      "f2py:> build\\src.win-amd64-3.7\\pka_numbermodule.c\n",
      "creating build\n",
      "creating build\\src.win-amd64-3.7\n",
      "Reading fortran codes...\n",
      "\tReading file 'pka_number.f90' (format:free)\n",
      "Post-processing...\n",
      "\tBlock: pka_number\n",
      "\t\t\tBlock: pka_number\n",
      "In: :pka_number:pka_number.f90:pka_number\n",
      "get_parameters: got \"invalid syntax (<string>, line 1)\" on '9.11d-31'\n",
      "In: :pka_number:pka_number.f90:pka_number\n",
      "get_parameters: got \"invalid syntax (<string>, line 1)\" on '1.6d-16'\n",
      "In: :pka_number:pka_number.f90:pka_number\n",
      "get_parameters: got \"invalid syntax (<string>, line 1)\" on '1.99d-26'\n",
      "In: :pka_number:pka_number.f90:pka_number\n",
      "get_parameters: got \"invalid syntax (<string>, line 1)\" on '2.8d-15'\n",
      "Post-processing (stage 2)...\n",
      "Building modules...\n",
      "\tBuilding module \"pka_number\"...\n",
      "\t\tConstructing wrapper function \"pka_number\"...\n",
      "\t\t  number = pka_number(z,m)\n",
      "\tWrote C/API module \"pka_number\" to file \"build\\src.win-amd64-3.7\\pka_numbermodule.c\"\n",
      "  adding 'build\\src.win-amd64-3.7\\build\\src.win-amd64-3.7\\fortranobject.c' to sources.\n",
      "  adding 'build\\src.win-amd64-3.7\\build\\src.win-amd64-3.7' to include_dirs.\n",
      "creating build\\src.win-amd64-3.7\\build\n",
      "creating build\\src.win-amd64-3.7\\build\\src.win-amd64-3.7\n",
      "copying E:\\Sofware\\CodeSofware\\Python\\python3\\lib\\site-packages\\numpy\\f2py\\src\\fortranobject.c -> build\\src.win-amd64-3.7\\build\\src.win-amd64-3.7\n",
      "copying E:\\Sofware\\CodeSofware\\Python\\python3\\lib\\site-packages\\numpy\\f2py\\src\\fortranobject.h -> build\\src.win-amd64-3.7\\build\\src.win-amd64-3.7\n",
      "build_src: building npy-pkg config files\n",
      "No module named 'numpy.distutils._msvccompiler' in numpy.distutils; trying from distutils\n",
      "customize MSVCCompiler\n",
      "customize MSVCCompiler using build_ext\n",
      "get_default_fcompiler: matching types: '['gnu', 'intelv', 'absoft', 'compaqv', 'intelev', 'gnu95', 'g95', 'intelvem', 'intelem', 'flang']'\n",
      "customize GnuFCompiler\n",
      "Could not locate executable g77\n",
      "Could not locate executable f77\n",
      "customize IntelVisualFCompiler\n",
      "Could not locate executable ifort\n",
      "Could not locate executable ifl\n",
      "customize AbsoftFCompiler\n",
      "Could not locate executable f90\n",
      "customize CompaqVisualFCompiler\n",
      "Could not locate executable DF\n",
      "customize IntelItaniumVisualFCompiler\n",
      "Could not locate executable efl\n",
      "customize Gnu95FCompiler\n",
      "Found executable C:\\Strawberry\\c\\bin\\gfortran.exe\n",
      "customize Gnu95FCompiler\n",
      "customize Gnu95FCompiler using build_ext\n",
      "building 'pka_number' extension\n",
      "compiling C sources\n",
      "creating build\\temp.win-amd64-3.7\\Release\\build\n",
      "creating build\\temp.win-amd64-3.7\\Release\\build\\src.win-amd64-3.7\n",
      "creating build\\temp.win-amd64-3.7\\Release\\build\\src.win-amd64-3.7\\build\n",
      "creating build\\temp.win-amd64-3.7\\Release\\build\\src.win-amd64-3.7\\build\\src.win-amd64-3.7\n",
      "E:\\Sofware\\CodeSofware\\Fortran\\VS2017\\VC\\Tools\\MSVC\\14.16.27023\\bin\\HostX86\\x64\\cl.exe /c /nologo /Ox /W3 /GL /DNDEBUG /MD -Ibuild\\src.win-amd64-3.7\\build\\src.win-amd64-3.7 -IE:\\Sofware\\CodeSofware\\Python\\python3\\lib\\site-packages\\numpy\\core\\include -IE:\\Sofware\\CodeSofware\\Python\\python3\\include -IE:\\Sofware\\CodeSofware\\Python\\python3\\include -IE:\\Sofware\\CodeSofware\\Fortran\\VS2017\\VC\\Tools\\MSVC\\14.16.27023\\ATLMFC\\include -IE:\\Sofware\\CodeSofware\\Fortran\\VS2017\\VC\\Tools\\MSVC\\14.16.27023\\include -I\"C:\\Program Files (x86)\\Windows Kits\\NETFXSDK\\4.6.1\\include\\um\" -I\"E:\\Windows Kits\\10\\include\\10.0.17134.0\\ucrt\" -I\"E:\\Windows Kits\\10\\include\\10.0.17134.0\\shared\" -I\"E:\\Windows Kits\\10\\include\\10.0.17134.0\\um\" -I\"E:\\Windows Kits\\10\\include\\10.0.17134.0\\winrt\" -I\"E:\\Windows Kits\\10\\include\\10.0.17134.0\\cppwinrt\" /Tcbuild\\src.win-amd64-3.7\\pka_numbermodule.c /Fobuild\\temp.win-amd64-3.7\\Release\\build\\src.win-amd64-3.7\\pka_numbermodule.obj\n",
      "E:\\Sofware\\CodeSofware\\Fortran\\VS2017\\VC\\Tools\\MSVC\\14.16.27023\\bin\\HostX86\\x64\\cl.exe /c /nologo /Ox /W3 /GL /DNDEBUG /MD -Ibuild\\src.win-amd64-3.7\\build\\src.win-amd64-3.7 -IE:\\Sofware\\CodeSofware\\Python\\python3\\lib\\site-packages\\numpy\\core\\include -IE:\\Sofware\\CodeSofware\\Python\\python3\\include -IE:\\Sofware\\CodeSofware\\Python\\python3\\include -IE:\\Sofware\\CodeSofware\\Fortran\\VS2017\\VC\\Tools\\MSVC\\14.16.27023\\ATLMFC\\include -IE:\\Sofware\\CodeSofware\\Fortran\\VS2017\\VC\\Tools\\MSVC\\14.16.27023\\include -I\"C:\\Program Files (x86)\\Windows Kits\\NETFXSDK\\4.6.1\\include\\um\" -I\"E:\\Windows Kits\\10\\include\\10.0.17134.0\\ucrt\" -I\"E:\\Windows Kits\\10\\include\\10.0.17134.0\\shared\" -I\"E:\\Windows Kits\\10\\include\\10.0.17134.0\\um\" -I\"E:\\Windows Kits\\10\\include\\10.0.17134.0\\winrt\" -I\"E:\\Windows Kits\\10\\include\\10.0.17134.0\\cppwinrt\" /Tcbuild\\src.win-amd64-3.7\\build\\src.win-amd64-3.7\\fortranobject.c /Fobuild\\temp.win-amd64-3.7\\Release\\build\\src.win-amd64-3.7\\build\\src.win-amd64-3.7\\fortranobject.obj\n",
      "compiling Fortran sources\n",
      "Fortran f77 compiler: C:\\Strawberry\\c\\bin\\gfortran.exe -Wall -g -ffixed-form -fno-second-underscore -O3 -funroll-loops\n",
      "Fortran f90 compiler: C:\\Strawberry\\c\\bin\\gfortran.exe -Wall -g -fno-second-underscore -O3 -funroll-loops\n",
      "Fortran fix compiler: C:\\Strawberry\\c\\bin\\gfortran.exe -Wall -g -ffixed-form -fno-second-underscore -Wall -g -fno-second-underscore -O3 -funroll-loops\n",
      "compile options: '-Ibuild\\src.win-amd64-3.7\\build\\src.win-amd64-3.7 -IE:\\Sofware\\CodeSofware\\Python\\python3\\lib\\site-packages\\numpy\\core\\include -IE:\\Sofware\\CodeSofware\\Python\\python3\\include -IE:\\Sofware\\CodeSofware\\Python\\python3\\include -c'\n",
      "gfortran.exe:f90: pka_number.f90\n",
      "C:\\Strawberry\\c\\bin\\gfortran.exe -Wall -g -Wall -g -shared build\\temp.win-amd64-3.7\\Release\\pka_number.o -LC:\\Strawberry\\c\\lib\\gcc\\i686-w64-mingw32\\4.9.2 -LE:\\Sofware\\CodeSofware\\Python\\python3\\libs -LE:\\Sofware\\CodeSofware\\Python\\python3\\PCbuild\\amd64 -o build\\temp.win-amd64-3.7\\Release\\.libs\\libpka_numb.EVNM2SCBB7CTB63HPFNMOJ3CX2D2AIVH.gfortran-win_amd64.dll -Wl,--allow-multiple-definition -Wl,--output-def,build\\temp.win-amd64-3.7\\Release\\libpka_numb.EVNM2SCBB7CTB63HPFNMOJ3CX2D2AIVH.gfortran-win_amd64.def -Wl,--export-all-symbols -Wl,--enable-auto-import -static -mlong-double-64\n",
      "E:\\Sofware\\CodeSofware\\Fortran\\VS2017\\VC\\Tools\\MSVC\\14.16.27023\\bin\\HostX86\\x64\\lib.exe /def:build\\temp.win-amd64-3.7\\Release\\libpka_numb.EVNM2SCBB7CTB63HPFNMOJ3CX2D2AIVH.gfortran-win_amd64.def /OUT:build\\temp.win-amd64-3.7\\Release\\libpka_numb.EVNM2SCBB7CTB63HPFNMOJ3CX2D2AIVH.gfortran-win_amd64.lib /MACHINE:X64\n",
      "E:\\Sofware\\CodeSofware\\Fortran\\VS2017\\VC\\Tools\\MSVC\\14.16.27023\\bin\\HostX86\\x64\\link.exe /nologo /INCREMENTAL:NO /LTCG /DLL /MANIFEST:EMBED,ID=2 /MANIFESTUAC:NO /LIBPATH:C:\\Strawberry\\c\\lib\\gcc\\i686-w64-mingw32\\4.9.2 /LIBPATH:E:\\Sofware\\CodeSofware\\Python\\python3\\libs /LIBPATH:E:\\Sofware\\CodeSofware\\Python\\python3\\PCbuild\\amd64 /LIBPATH:E:\\Sofware\\CodeSofware\\Python\\python3\\libs /LIBPATH:E:\\Sofware\\CodeSofware\\Python\\python3\\PCbuild\\amd64 /LIBPATH:E:\\Sofware\\CodeSofware\\Fortran\\VS2017\\VC\\Tools\\MSVC\\14.16.27023\\ATLMFC\\lib\\x64 /LIBPATH:E:\\Sofware\\CodeSofware\\Fortran\\VS2017\\VC\\Tools\\MSVC\\14.16.27023\\lib\\x64 /LIBPATH:\"C:\\Program Files (x86)\\Windows Kits\\NETFXSDK\\4.6.1\\lib\\um\\x64\" /LIBPATH:\"E:\\Windows Kits\\10\\lib\\10.0.17134.0\\ucrt\\x64\" /LIBPATH:\"E:\\Windows Kits\\10\\lib\\10.0.17134.0\\um\\x64\" /EXPORT:PyInit_pka_number build\\temp.win-amd64-3.7\\Release\\build\\src.win-amd64-3.7\\pka_numbermodule.obj build\\temp.win-amd64-3.7\\Release\\build\\src.win-amd64-3.7\\build\\src.win-amd64-3.7\\fortranobject.obj build\\temp.win-amd64-3.7\\Release\\libpka_numb.EVNM2SCBB7CTB63HPFNMOJ3CX2D2AIVH.gfortran-win_amd64.lib /OUT:pka_number.cp37-win_amd64.pyd /IMPLIB:build\\temp.win-amd64-3.7\\Release\\build\\src.win-amd64-3.7\\pka_number.cp37-win_amd64.lib\n",
      "LINK : fatal error LNK1104: 无法打开文件“pka_number.cp37-win_amd64.pyd”\n"
     ]
    },
    {
     "name": "stderr",
     "output_type": "stream",
     "text": [
      "error: Command \"E:\\Sofware\\CodeSofware\\Fortran\\VS2017\\VC\\Tools\\MSVC\\14.16.27023\\bin\\HostX86\\x64\\link.exe /nologo /INCREMENTAL:NO /LTCG /DLL /MANIFEST:EMBED,ID=2 /MANIFESTUAC:NO /LIBPATH:C:\\Strawberry\\c\\lib\\gcc\\i686-w64-mingw32\\4.9.2 /LIBPATH:E:\\Sofware\\CodeSofware\\Python\\python3\\libs /LIBPATH:E:\\Sofware\\CodeSofware\\Python\\python3\\PCbuild\\amd64 /LIBPATH:E:\\Sofware\\CodeSofware\\Python\\python3\\libs /LIBPATH:E:\\Sofware\\CodeSofware\\Python\\python3\\PCbuild\\amd64 /LIBPATH:E:\\Sofware\\CodeSofware\\Fortran\\VS2017\\VC\\Tools\\MSVC\\14.16.27023\\ATLMFC\\lib\\x64 /LIBPATH:E:\\Sofware\\CodeSofware\\Fortran\\VS2017\\VC\\Tools\\MSVC\\14.16.27023\\lib\\x64 /LIBPATH:\"C:\\Program Files (x86)\\Windows Kits\\NETFXSDK\\4.6.1\\lib\\um\\x64\" /LIBPATH:\"E:\\Windows Kits\\10\\lib\\10.0.17134.0\\ucrt\\x64\" /LIBPATH:\"E:\\Windows Kits\\10\\lib\\10.0.17134.0\\um\\x64\" /EXPORT:PyInit_pka_number build\\temp.win-amd64-3.7\\Release\\build\\src.win-amd64-3.7\\pka_numbermodule.obj build\\temp.win-amd64-3.7\\Release\\build\\src.win-amd64-3.7\\build\\src.win-amd64-3.7\\fortranobject.obj build\\temp.win-amd64-3.7\\Release\\libpka_numb.EVNM2SCBB7CTB63HPFNMOJ3CX2D2AIVH.gfortran-win_amd64.lib /OUT:pka_number.cp37-win_amd64.pyd /IMPLIB:build\\temp.win-amd64-3.7\\Release\\build\\src.win-amd64-3.7\\pka_number.cp37-win_amd64.lib\" failed with exit status 1104\n"
     ]
    }
   ],
   "source": [
    "!python setup_example.py build_ext --inplace"
   ]
  },
  {
   "cell_type": "code",
   "execution_count": 63,
   "metadata": {},
   "outputs": [
    {
     "name": "stdout",
     "output_type": "stream",
     "text": [
      "3.7397260665893555\n"
     ]
    }
   ],
   "source": [
    "import pka_number\n",
    "defects=pka_number.pka_number(8,15.99)\n",
    "print(defects+1)"
   ]
  },
  {
   "cell_type": "code",
   "execution_count": null,
   "metadata": {},
   "outputs": [],
   "source": []
  },
  {
   "cell_type": "code",
   "execution_count": null,
   "metadata": {},
   "outputs": [],
   "source": []
  },
  {
   "cell_type": "markdown",
   "metadata": {},
   "source": [
    "# MCCM算法计算dpa的值"
   ]
  },
  {
   "cell_type": "code",
   "execution_count": 10,
   "metadata": {},
   "outputs": [
    {
     "data": {
      "text/plain": [
       "\u001b[1;31m#！/usr/bin/python\u001b[0m\u001b[1;33m\n",
       "\u001b[0m\u001b[1;31m# -*- coding: UTF-8 -*-\u001b[0m\u001b[1;33m\n",
       "\u001b[0m\u001b[1;33m\n",
       "\u001b[0m\u001b[1;32mimport\u001b[0m \u001b[0mnumpy\u001b[0m \u001b[1;32mas\u001b[0m \u001b[0mnp\u001b[0m\u001b[1;33m\n",
       "\u001b[0m\u001b[1;32mimport\u001b[0m \u001b[0mmatplotlib\u001b[0m\u001b[1;33m.\u001b[0m\u001b[0mpylab\u001b[0m \u001b[1;32mas\u001b[0m \u001b[0mplt\u001b[0m\u001b[1;33m\n",
       "\u001b[0m\u001b[1;31m# import pandas as pd\u001b[0m\u001b[1;33m\n",
       "\u001b[0m\u001b[1;33m\n",
       "\u001b[0m\u001b[1;32mdef\u001b[0m \u001b[0mdpa_mccm\u001b[0m\u001b[1;33m(\u001b[0m\u001b[1;33m)\u001b[0m\u001b[1;33m:\u001b[0m\u001b[1;33m\n",
       "\u001b[0m        \u001b[0mdpa\u001b[0m \u001b[1;33m=\u001b[0m \u001b[1;33m[\u001b[0m\u001b[1;33m]\u001b[0m\u001b[1;33m\n",
       "\u001b[0m        \u001b[0mdepth\u001b[0m \u001b[1;33m=\u001b[0m \u001b[1;33m[\u001b[0m\u001b[1;33m]\u001b[0m\u001b[1;33m\n",
       "\u001b[0m        \u001b[0mdata_Ti\u001b[0m \u001b[1;33m=\u001b[0m \u001b[0mnp\u001b[0m\u001b[1;33m.\u001b[0m\u001b[0mloadtxt\u001b[0m\u001b[1;33m(\u001b[0m\u001b[1;34m\"photonvec_Ti200.txt\"\u001b[0m\u001b[1;33m)\u001b[0m\u001b[1;33m\n",
       "\u001b[0m        \u001b[0mx\u001b[0m \u001b[1;33m=\u001b[0m \u001b[0mdata_Ti\u001b[0m\u001b[1;33m[\u001b[0m\u001b[1;33m:\u001b[0m\u001b[1;33m,\u001b[0m\u001b[1;36m1\u001b[0m\u001b[1;33m]\u001b[0m\u001b[1;33m\n",
       "\u001b[0m        \u001b[0mdata_O\u001b[0m \u001b[1;33m=\u001b[0m \u001b[0mnp\u001b[0m\u001b[1;33m.\u001b[0m\u001b[0mloadtxt\u001b[0m\u001b[1;33m(\u001b[0m\u001b[1;34m\"photonvec_O200.txt\"\u001b[0m\u001b[1;33m)\u001b[0m\u001b[1;33m\n",
       "\u001b[0m        \u001b[0my\u001b[0m \u001b[1;33m=\u001b[0m \u001b[0mdata_O\u001b[0m\u001b[1;33m[\u001b[0m\u001b[1;33m:\u001b[0m\u001b[1;33m,\u001b[0m\u001b[1;36m1\u001b[0m\u001b[1;33m]\u001b[0m\u001b[1;33m\n",
       "\u001b[0m        \u001b[0mflux\u001b[0m \u001b[1;33m=\u001b[0m \u001b[0mnp\u001b[0m\u001b[1;33m.\u001b[0m\u001b[0mloadtxt\u001b[0m\u001b[1;33m(\u001b[0m\u001b[1;34m\"energy_200.txt\"\u001b[0m\u001b[1;33m)\u001b[0m\u001b[1;33m\n",
       "\u001b[0m        \u001b[1;32mfor\u001b[0m \u001b[0mi\u001b[0m \u001b[1;32min\u001b[0m \u001b[0mrange\u001b[0m\u001b[1;33m(\u001b[0m\u001b[1;36m15\u001b[0m\u001b[1;33m)\u001b[0m\u001b[1;33m:\u001b[0m\u001b[1;33m\n",
       "\u001b[0m                \u001b[0mnumber\u001b[0m \u001b[1;33m=\u001b[0m \u001b[0mflux\u001b[0m\u001b[1;33m[\u001b[0m\u001b[1;33m:\u001b[0m\u001b[1;33m,\u001b[0m\u001b[0mi\u001b[0m\u001b[1;33m]\u001b[0m\u001b[1;33m\n",
       "\u001b[0m                \u001b[0mvalue\u001b[0m \u001b[1;33m=\u001b[0m \u001b[1;33m(\u001b[0m\u001b[0msum\u001b[0m\u001b[1;33m(\u001b[0m\u001b[0mnp\u001b[0m\u001b[1;33m.\u001b[0m\u001b[0mmultiply\u001b[0m\u001b[1;33m(\u001b[0m\u001b[0mx\u001b[0m\u001b[1;33m,\u001b[0m\u001b[0mnumber\u001b[0m\u001b[1;33m)\u001b[0m\u001b[1;33m)\u001b[0m\u001b[1;33m/\u001b[0m\u001b[1;36m3\u001b[0m\u001b[1;33m+\u001b[0m\u001b[0msum\u001b[0m\u001b[1;33m(\u001b[0m\u001b[0mnp\u001b[0m\u001b[1;33m.\u001b[0m\u001b[0mmultiply\u001b[0m\u001b[1;33m(\u001b[0m\u001b[0my\u001b[0m\u001b[1;33m,\u001b[0m\u001b[0mnumber\u001b[0m\u001b[1;33m)\u001b[0m\u001b[1;33m*\u001b[0m\u001b[1;36m2\u001b[0m\u001b[1;33m/\u001b[0m\u001b[1;36m3\u001b[0m\u001b[1;33m)\u001b[0m\u001b[1;33m)\u001b[0m\u001b[1;33m*\u001b[0m\u001b[1;36m0.01\u001b[0m\u001b[1;33m\n",
       "\u001b[0m                \u001b[1;31m# value = (sum(np.multiply(y,number))*2/3)*0.01\u001b[0m\u001b[1;33m\n",
       "\u001b[0m                \u001b[1;31m# value = (sum(np.multiply(x,number))/3+sum(np.multiply(y,number)*2/3))*0.01\u001b[0m\u001b[1;33m\n",
       "\u001b[0m                \u001b[0mdpa\u001b[0m\u001b[1;33m.\u001b[0m\u001b[0mappend\u001b[0m\u001b[1;33m(\u001b[0m\u001b[0mvalue\u001b[0m\u001b[1;33m)\u001b[0m\u001b[1;33m\n",
       "\u001b[0m        \u001b[1;32mfor\u001b[0m \u001b[0mi\u001b[0m \u001b[1;32min\u001b[0m \u001b[0mrange\u001b[0m\u001b[1;33m(\u001b[0m\u001b[1;36m15\u001b[0m\u001b[1;33m)\u001b[0m\u001b[1;33m:\u001b[0m\u001b[1;33m\n",
       "\u001b[0m                \u001b[0mdelta\u001b[0m \u001b[1;33m=\u001b[0m \u001b[1;33m(\u001b[0m\u001b[0mi\u001b[0m\u001b[1;33m+\u001b[0m\u001b[1;36m1\u001b[0m\u001b[1;33m)\u001b[0m\u001b[1;33m*\u001b[0m\u001b[1;36m0.1\u001b[0m\u001b[1;33m\n",
       "\u001b[0m                \u001b[0mdepth\u001b[0m\u001b[1;33m.\u001b[0m\u001b[0mappend\u001b[0m\u001b[1;33m(\u001b[0m\u001b[0mdelta\u001b[0m\u001b[1;33m)\u001b[0m\u001b[1;33m\n",
       "\u001b[0m        \u001b[1;32mwith\u001b[0m \u001b[0mopen\u001b[0m\u001b[1;33m(\u001b[0m\u001b[1;34m\"result.txt\"\u001b[0m\u001b[1;33m,\u001b[0m\u001b[1;34m'w'\u001b[0m\u001b[1;33m)\u001b[0m \u001b[1;32mas\u001b[0m \u001b[0mf\u001b[0m\u001b[1;33m:\u001b[0m\u001b[1;33m\n",
       "\u001b[0m                \u001b[1;32mfor\u001b[0m \u001b[0mi\u001b[0m \u001b[1;32min\u001b[0m \u001b[0mrange\u001b[0m\u001b[1;33m(\u001b[0m\u001b[0mlen\u001b[0m\u001b[1;33m(\u001b[0m\u001b[0mdpa\u001b[0m\u001b[1;33m)\u001b[0m\u001b[1;33m)\u001b[0m\u001b[1;33m:\u001b[0m\u001b[1;33m\n",
       "\u001b[0m                        \u001b[0mf\u001b[0m\u001b[1;33m.\u001b[0m\u001b[0mwrite\u001b[0m\u001b[1;33m(\u001b[0m\u001b[0mstr\u001b[0m\u001b[1;33m(\u001b[0m\u001b[0mdpa\u001b[0m\u001b[1;33m[\u001b[0m\u001b[0mi\u001b[0m\u001b[1;33m]\u001b[0m\u001b[1;33m)\u001b[0m\u001b[1;33m)\u001b[0m\u001b[1;33m\n",
       "\u001b[0m                        \u001b[0mf\u001b[0m\u001b[1;33m.\u001b[0m\u001b[0mwrite\u001b[0m\u001b[1;33m(\u001b[0m\u001b[1;34m\"\\n\"\u001b[0m\u001b[1;33m)\u001b[0m\u001b[1;33m\n",
       "\u001b[0m        \u001b[0mprint\u001b[0m\u001b[1;33m(\u001b[0m\u001b[0mdpa\u001b[0m\u001b[1;33m)\u001b[0m\u001b[1;33m\n",
       "\u001b[0m        \u001b[0mplt\u001b[0m\u001b[1;33m.\u001b[0m\u001b[0mplot\u001b[0m\u001b[1;33m(\u001b[0m\u001b[0mdepth\u001b[0m\u001b[1;33m,\u001b[0m\u001b[0mdpa\u001b[0m\u001b[1;33m,\u001b[0m\u001b[1;34m'bo--'\u001b[0m\u001b[1;33m)\u001b[0m\u001b[1;33m\n",
       "\u001b[0m        \u001b[0mplt\u001b[0m\u001b[1;33m.\u001b[0m\u001b[0mshow\u001b[0m\u001b[1;33m(\u001b[0m\u001b[1;33m)\u001b[0m\u001b[1;33m\n",
       "\u001b[0m\u001b[1;33m\n",
       "\u001b[0m\u001b[1;33m\n",
       "\u001b[0m\u001b[1;32mif\u001b[0m \u001b[0m__name__\u001b[0m \u001b[1;33m==\u001b[0m \u001b[1;34m'__main__'\u001b[0m\u001b[1;33m:\u001b[0m\u001b[1;33m\n",
       "\u001b[0m        \u001b[0mdpa_mccm\u001b[0m\u001b[1;33m(\u001b[0m\u001b[1;33m)\u001b[0m\u001b[1;33m\u001b[0m\u001b[0m\n"
      ]
     },
     "metadata": {},
     "output_type": "display_data"
    }
   ],
   "source": [
    "%pycat dpa_mccm.py"
   ]
  },
  {
   "cell_type": "code",
   "execution_count": 86,
   "metadata": {},
   "outputs": [
    {
     "name": "stdout",
     "output_type": "stream",
     "text": [
      "[0.0012554947534205957, 0.0013077305714383942, 0.0013495342961497253, 0.00138325428181129, 0.001412223574833126, 0.0014352088501857672, 0.001453292228650605, 0.001458289498864586, 0.001475142033085112, 0.0014829245719730206, 0.0014773127037879838, 0.0014477648708651426, 0.0013861845375898363, 0.0012332813445141443, 0.0008681180706076706]\n"
     ]
    },
    {
     "data": {
      "image/png": "[encoded data removed]",
      "text/plain": [
       "<Figure size 432x288 with 1 Axes>"
      ]
     },
     "metadata": {
      "needs_background": "light"
     },
     "output_type": "display_data"
    }
   ],
   "source": [
    "%run dpa_mccm.py"
   ]
  },
  {
   "cell_type": "code",
   "execution_count": 44,
   "metadata": {},
   "outputs": [
    {
     "data": {
      "text/plain": [
       "0.5676172953081876"
      ]
     },
     "execution_count": 44,
     "metadata": {},
     "output_type": "execute_result"
    }
   ],
   "source": [
    "0.02468/(0.02468+0.0188)"
   ]
  },
  {
   "cell_type": "code",
   "execution_count": null,
   "metadata": {},
   "outputs": [],
   "source": []
  }
 ],
 "metadata": {
  "kernelspec": {
   "display_name": "Python 3",
   "language": "python",
   "name": "python3"
  },
  "language_info": {
   "codemirror_mode": {
    "name": "ipython",
    "version": 3
   },
   "file_extension": ".py",
   "mimetype": "text/x-python",
   "name": "python",
   "nbconvert_exporter": "python",
   "pygments_lexer": "ipython3",
   "version": "3.6.6"
  }
 },
 "nbformat": 4,
 "nbformat_minor": 2
}
