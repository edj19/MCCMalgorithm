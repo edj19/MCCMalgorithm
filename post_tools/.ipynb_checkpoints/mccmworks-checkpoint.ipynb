{
 "cells": [
  {
   "cell_type": "markdown",
   "metadata": {},
   "source": [
    "# MCNP5 photon transport calculation based on the MCCM algorithm"
   ]
  },
  {
   "cell_type": "markdown",
   "metadata": {},
   "source": [
    "- 输入脚本-mcnp\n",
    "\n",
    "**F4 -记录光谱  ELC --将电子和正电子进行区分**"
   ]
  },
  {
   "cell_type": "markdown",
   "metadata": {},
   "source": [
    "mcnp\n",
    "The calculation in Titanium oxide                                               \n",
    "1 1 -4.23 2 -1 4 -3 5 -6 fill=1 imp:p,e 1                                       \n",
    "10 1 -4.23 2 -1 4 -3 5 -10 lat=1 u=1 imp:p,e 1                                  \n",
    "100 2 -0.001293 (101 -102 -100)#1 imp:p,e 1                                     \n",
    "999 0 -101:102:100  imp:p=0  imp:e=0                                            \n",
    "                                                                                \n",
    "1 px 0.5                                                                        \n",
    "2 px -0.5                                                                       \n",
    "3 py 0.5                                                                        \n",
    "4 py -0.5                                                                       \n",
    "5 pz 0.01                                                                        \n",
    "6 pz 0.16 \n",
    "7 px -0.49 \n",
    "8 py -0.49                                                                    \n",
    "10 pz 0.02                                                                     \n",
    "100 cz 0.9                                                                      \n",
    "101 pz -0.1                                                                     \n",
    "102 pz 6.0                                                                      \n",
    "                                                                                \n",
    "mode p e                                                                        \n",
    "m1 22000 1 8016 2                                                               \n",
    "m2 7014  -0.755636 8016  -0.231475 18000  -0.012889 \n",
    "sdef pos=0 0 0 axs=0 0 1  x=d1 y=d2 z=0  erg=10.0 par=2 vec=0 0 1 dir=1                                             \n",
    "si1 -0.5 0.5                                                                    \n",
    "sp1 0 1                                                                         \n",
    "si2 -0.5 0.5\n",
    "sp2 0 1  \n",
    "e1 0 999i 10.0 \n",
    "e4 0 999i 10.0                                                                                                     \n",
    "F1:e 10                                                                                                                                         \n",
    "c e6 0 61i 0.622                                                                 \n",
    "F4:e 10 \n",
    "FT4 ELC 3\n",
    "c *FMESH4:e geom=xyz   origin=-0.5 -0.5 0.01\n",
    "c          imesh=0.5   iints=10\n",
    "c          jmesh=0.5   jints=10\n",
    "c           kmesh=0.11  kints=1 \n",
    "c          emesh=0.001 0.62   out=ij                                                                    \n",
    "c *F4:e (10<10[-9:0 -9:0 0:0]) \n",
    "c F6:p 10 \n",
    "c *F8:p 10                                                   \n",
    "c F6:p 10 (10<10[0:0 0:0 -9:0])                                                                                                                \n",
    "cut:e j 0.001                                                                   \n",
    "cut:p j 0.001\n",
    "PHYS:P 4j 1 \n",
    "nps 20000000\n",
    "print                                                                  \n",
    "       "
   ]
  },
  {
   "cell_type": "markdown",
   "metadata": {},
   "source": [
    "## 1. Extract the flux energy from the mcnp OUTPUT file"
   ]
  },
  {
   "cell_type": "code",
   "execution_count": 36,
   "metadata": {},
   "outputs": [],
   "source": [
    "def extract_flux(filename):\n",
    "    index=0\n",
    "    list_energy=[]\n",
    "    list_total=[]\n",
    "    list_electron=[]\n",
    "    list_positron=[]\n",
    "    with open(filename,\"r\") as f:\n",
    "        line=f.readline()\n",
    "        while line:\n",
    "            if line[:9]==' cell  10':\n",
    "                f.readline()\n",
    "                index=index+1\n",
    "                for i in range(301):\n",
    "                    energy,f4,error = f.readline().split()\n",
    "                    list_energy.append(energy)\n",
    "                    if(index==1):\n",
    "                        list_total.append(f4)\n",
    "                    elif(index==2):\n",
    "                        list_electron.append(f4)\n",
    "                    else:\n",
    "                        list_positron.append(f4)\n",
    "            line=f.readline()\n",
    "        print(list_total)\n",
    "    return list_energy,list_total,list_electron,list_positron\n",
    "                            \n",
    "              "
   ]
  },
  {
   "cell_type": "code",
   "execution_count": 47,
   "metadata": {},
   "outputs": [
    {
     "name": "stdout",
     "output_type": "stream",
     "text": [
      "['0.00000E+00', '4.41650E-07', '9.83343E-07', '1.40246E-06', '1.78394E-06', '2.08219E-06', '2.39858E-06', '2.66113E-06', '2.95137E-06', '3.07402E-06', '3.30994E-06', '3.52612E-06', '3.71403E-06', '3.86101E-06', '3.99766E-06', '4.18733E-06', '4.30349E-06', '4.23532E-06', '4.43377E-06', '4.69244E-06', '4.46934E-06', '4.92311E-06', '4.58766E-06', '4.98676E-06', '4.75906E-06', '5.17550E-06', '4.75238E-06', '5.27276E-06', '4.79947E-06', '5.26901E-06', '5.11392E-06', '5.02514E-06', '5.44922E-06', '4.94514E-06', '5.26801E-06', '5.51053E-06', '4.94564E-06', '5.31197E-06', '5.57580E-06', '5.04289E-06', '5.18369E-06', '5.53891E-06', '5.38982E-06', '4.91711E-06', '5.35845E-06', '5.59490E-06', '5.28787E-06', '4.82444E-06', '5.29650E-06', '5.46998E-06', '5.31489E-06', '4.88567E-06', '5.27783E-06', '5.50222E-06', '5.53540E-06', '5.01248E-06', '4.89227E-06', '5.32257E-06', '5.52600E-06', '5.37656E-06', '4.95072E-06', '4.94045E-06', '5.17629E-06', '5.40424E-06', '5.37331E-06', '5.10503E-06', '4.63487E-06', '4.97445E-06', '5.24448E-06', '5.32101E-06', '5.20507E-06', '4.91862E-06', '4.51523E-06', '4.87517E-06', '5.08381E-06', '5.12852E-06', '5.07632E-06', '4.83543E-06', '4.43477E-06', '4.59270E-06', '4.71111E-06', '4.90544E-06', '4.93768E-06', '4.89277E-06', '4.79119E-06', '4.30584E-06', '4.45044E-06', '4.61354E-06', '4.76228E-06', '4.87355E-06', '4.73029E-06', '4.62267E-06', '4.48118E-06', '3.90583E-06', '4.33080E-06', '4.39374E-06', '4.49555E-06', '4.56149E-06', '4.38500E-06', '4.38088E-06', '4.15004E-06', '3.85999E-06', '3.92770E-06', '4.12652E-06', '4.19028E-06', '4.25361E-06', '4.33322E-06', '4.19347E-06', '4.16798E-06', '3.98687E-06', '3.68321E-06', '3.63543E-06', '3.90259E-06', '3.96530E-06', '4.03899E-06', '3.98172E-06', '3.94729E-06', '3.84675E-06', '3.93665E-06', '3.60445E-06', '3.54457E-06', '3.18529E-06', '3.68611E-06', '3.53061E-06', '3.60433E-06', '3.67943E-06', '3.62663E-06', '3.60236E-06', '3.50564E-06', '3.27742E-06', '3.28246E-06', '3.01103E-06', '3.05886E-06', '3.12840E-06', '3.19087E-06', '3.19514E-06', '3.23056E-06', '3.12517E-06', '3.19473E-06', '2.99575E-06', '3.04070E-06', '2.78966E-06', '2.77068E-06', '2.49530E-06', '2.61403E-06', '2.54343E-06', '2.60940E-06', '2.56416E-06', '2.66580E-06', '2.45772E-06', '2.56790E-06', '2.35582E-06', '2.40020E-06', '2.30067E-06', '2.14806E-06', '2.18584E-06', '1.91257E-06', '2.11632E-06', '1.89935E-06', '2.07056E-06', '1.84651E-06', '1.99635E-06', '1.90037E-06', '1.86004E-06', '1.79628E-06', '1.66235E-06', '1.59844E-06', '1.55903E-06', '1.38199E-06', '1.43939E-06', '1.31100E-06', '1.22690E-06', '1.27741E-06', '1.26677E-06', '1.14614E-06', '1.13501E-06', '1.11438E-06', '9.40278E-07', '9.72978E-07', '8.93524E-07', '8.29734E-07', '8.16747E-07', '7.12869E-07', '6.88545E-07', '6.10916E-07', '5.51979E-07', '4.76082E-07', '4.93978E-07', '4.45992E-07', '3.71260E-07', '3.69398E-07', '3.42248E-07', '2.93334E-07', '2.68165E-07', '2.59912E-07', '2.24824E-07', '1.27136E-07', '1.43350E-07', '1.00324E-07', '0.00000E+00', '0.00000E+00', '0.00000E+00', '0.00000E+00', '0.00000E+00', '0.00000E+00', '0.00000E+00', '0.00000E+00', '0.00000E+00', '0.00000E+00', '0.00000E+00', '0.00000E+00', '0.00000E+00', '0.00000E+00', '0.00000E+00', '0.00000E+00', '0.00000E+00', '0.00000E+00', '0.00000E+00', '0.00000E+00', '0.00000E+00', '0.00000E+00', '0.00000E+00', '0.00000E+00', '0.00000E+00', '0.00000E+00', '0.00000E+00', '0.00000E+00', '0.00000E+00', '0.00000E+00', '0.00000E+00', '0.00000E+00', '0.00000E+00', '0.00000E+00', '0.00000E+00', '0.00000E+00', '0.00000E+00', '0.00000E+00', '0.00000E+00', '0.00000E+00', '0.00000E+00', '0.00000E+00', '0.00000E+00', '0.00000E+00', '0.00000E+00', '0.00000E+00', '0.00000E+00', '0.00000E+00', '0.00000E+00', '0.00000E+00', '0.00000E+00', '0.00000E+00', '0.00000E+00', '0.00000E+00', '0.00000E+00', '0.00000E+00', '0.00000E+00', '0.00000E+00', '0.00000E+00', '0.00000E+00', '0.00000E+00', '0.00000E+00', '0.00000E+00', '0.00000E+00', '0.00000E+00', '0.00000E+00', '0.00000E+00', '0.00000E+00', '0.00000E+00', '0.00000E+00', '0.00000E+00', '0.00000E+00', '0.00000E+00', '0.00000E+00', '0.00000E+00', '0.00000E+00', '0.00000E+00', '0.00000E+00', '0.00000E+00', '0.00000E+00', '0.00000E+00', '0.00000E+00', '0.00000E+00', '0.00000E+00', '0.00000E+00', '0.00000E+00', '0.00000E+00', '0.00000E+00', '0.00000E+00', '0.00000E+00', '0.00000E+00', '0.00000E+00', '0.00000E+00', '0.00000E+00', '0.00000E+00', '0.00000E+00', '0.00000E+00', '0.00000E+00', '0.00000E+00', '0.00000E+00', '0.00000E+00', '0.00000E+00']\n"
     ]
    },
    {
     "data": {
      "image/png": "[encoded data removed]",
      "text/plain": [
       "<Figure size 432x288 with 1 Axes>"
      ]
     },
     "metadata": {
      "needs_background": "light"
     },
     "output_type": "display_data"
    }
   ],
   "source": [
    "import matplotlib.pylab as plt\n",
    "import numpy as np\n",
    "filename = \"outr\"\n",
    "energy,total,electron,positron=extract_flux(filename)\n",
    "energy_x=energy[:301]\n",
    "plt.plot(energy_x,total,'ro')\n",
    "# plt.xlim((0.0,3.0))\n",
    "# plt.ylim((0.0,0.000007))\n",
    "# plt.plot(energy_x,electron,'go')\n",
    "# plt.plot(energy_x,positron,'b-')\n",
    "plt.show()\n"
   ]
  },
  {
   "cell_type": "markdown",
   "metadata": {},
   "source": [
    "**下图显示了光子输运过程中电子、正电子和总的电子数的通量密度随能量的变化**"
   ]
  },
  {
   "cell_type": "markdown",
   "metadata": {},
   "source": [
    "<img src=\"../figures/fig1.jpg\"/>"
   ]
  },
  {
   "cell_type": "markdown",
   "metadata": {},
   "source": [
    "<font color=red size=\"3\"> 由于上述mcnp的特殊处理，上述图像位于x轴下方的实际在上方,如下图所示</font>"
   ]
  },
  {
   "cell_type": "markdown",
   "metadata": {},
   "source": [
    "<img src=\"../figures/fig2.jpg\">"
   ]
  },
  {
   "cell_type": "markdown",
   "metadata": {},
   "source": [
    "<font size=\"4\" color=red> 最后得到的总的电子数目的谱，与MCCM算法类似</font>"
   ]
  },
  {
   "cell_type": "markdown",
   "metadata": {},
   "source": [
    "<img src=\"../figures/fig3.jpg\">"
   ]
  },
  {
   "cell_type": "markdown",
   "metadata": {},
   "source": [
    "# 2. 提取数据，能量范围（1.25-10MeV）"
   ]
  },
  {
   "cell_type": "code",
   "execution_count": null,
   "metadata": {},
   "outputs": [],
   "source": []
  },
  {
   "cell_type": "code",
   "execution_count": null,
   "metadata": {},
   "outputs": [],
   "source": []
  },
  {
   "cell_type": "code",
   "execution_count": null,
   "metadata": {},
   "outputs": [],
   "source": []
  },
  {
   "cell_type": "code",
   "execution_count": null,
   "metadata": {},
   "outputs": [],
   "source": []
  },
  {
   "cell_type": "markdown",
   "metadata": {},
   "source": [
    "# 3.MCCM算法的Fortran程序部分"
   ]
  },
  {
   "cell_type": "code",
   "execution_count": null,
   "metadata": {},
   "outputs": [],
   "source": []
  },
  {
   "cell_type": "code",
   "execution_count": null,
   "metadata": {},
   "outputs": [],
   "source": []
  }
 ],
 "metadata": {
  "kernelspec": {
   "display_name": "Python 3",
   "language": "python",
   "name": "python3"
  },
  "language_info": {
   "codemirror_mode": {
    "name": "ipython",
    "version": 3
   },
   "file_extension": ".py",
   "mimetype": "text/x-python",
   "name": "python",
   "nbconvert_exporter": "python",
   "pygments_lexer": "ipython3",
   "version": "3.7.1"
  }
 },
 "nbformat": 4,
 "nbformat_minor": 2
}
